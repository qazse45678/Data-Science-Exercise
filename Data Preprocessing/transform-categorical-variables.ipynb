{
 "cells": [
  {
   "cell_type": "markdown",
   "id": "b0efb977",
   "metadata": {
    "papermill": {
     "duration": 0.008949,
     "end_time": "2022-11-04T10:01:47.001311",
     "exception": false,
     "start_time": "2022-11-04T10:01:46.992362",
     "status": "completed"
    },
    "tags": []
   },
   "source": [
    "**This notebook is an exercise in the [Intermediate Machine Learning](https://www.kaggle.com/learn/intermediate-machine-learning) course.  You can reference the tutorial at [this link](https://www.kaggle.com/alexisbcook/categorical-variables).**\n",
    "\n",
    "---\n"
   ]
  },
  {
   "cell_type": "markdown",
   "id": "e2a05a42",
   "metadata": {
    "papermill": {
     "duration": 0.008451,
     "end_time": "2022-11-04T10:01:47.017947",
     "exception": false,
     "start_time": "2022-11-04T10:01:47.009496",
     "status": "completed"
    },
    "tags": []
   },
   "source": [
    "By encoding **categorical variables**, you'll obtain your best results thus far!\n",
    "\n",
    "# Setup\n",
    "\n",
    "The questions below will give you feedback on your work. Run the following cell to set up the feedback system."
   ]
  },
  {
   "cell_type": "code",
   "execution_count": 1,
   "id": "3b645c2a",
   "metadata": {
    "execution": {
     "iopub.execute_input": "2022-11-04T10:01:47.035958Z",
     "iopub.status.busy": "2022-11-04T10:01:47.035359Z",
     "iopub.status.idle": "2022-11-04T10:01:47.090887Z",
     "shell.execute_reply": "2022-11-04T10:01:47.089266Z"
    },
    "papermill": {
     "duration": 0.067412,
     "end_time": "2022-11-04T10:01:47.093415",
     "exception": false,
     "start_time": "2022-11-04T10:01:47.026003",
     "status": "completed"
    },
    "tags": []
   },
   "outputs": [
    {
     "name": "stdout",
     "output_type": "stream",
     "text": [
      "Setup Complete\n"
     ]
    }
   ],
   "source": [
    "# Set up code checking\n",
    "import os\n",
    "if not os.path.exists(\"../input/train.csv\"):\n",
    "    os.symlink(\"../input/home-data-for-ml-course/train.csv\", \"../input/train.csv\")  \n",
    "    os.symlink(\"../input/home-data-for-ml-course/test.csv\", \"../input/test.csv\") \n",
    "from learntools.core import binder\n",
    "binder.bind(globals())\n",
    "from learntools.ml_intermediate.ex3 import *\n",
    "print(\"Setup Complete\")"
   ]
  },
  {
   "cell_type": "markdown",
   "id": "f13611b6",
   "metadata": {
    "papermill": {
     "duration": 0.008956,
     "end_time": "2022-11-04T10:01:47.111705",
     "exception": false,
     "start_time": "2022-11-04T10:01:47.102749",
     "status": "completed"
    },
    "tags": []
   },
   "source": [
    "In this exercise, you will work with data from the [Housing Prices Competition for Kaggle Learn Users](https://www.kaggle.com/c/home-data-for-ml-course). \n",
    "\n",
    "![Ames Housing dataset image](https://i.imgur.com/lTJVG4e.png)\n",
    "\n",
    "Run the next code cell without changes to load the training and validation sets in `X_train`, `X_valid`, `y_train`, and `y_valid`.  The test set is loaded in `X_test`."
   ]
  },
  {
   "cell_type": "code",
   "execution_count": 2,
   "id": "a7f6c511",
   "metadata": {
    "execution": {
     "iopub.execute_input": "2022-11-04T10:01:47.130119Z",
     "iopub.status.busy": "2022-11-04T10:01:47.129798Z",
     "iopub.status.idle": "2022-11-04T10:01:48.263188Z",
     "shell.execute_reply": "2022-11-04T10:01:48.261194Z"
    },
    "papermill": {
     "duration": 1.145435,
     "end_time": "2022-11-04T10:01:48.265721",
     "exception": false,
     "start_time": "2022-11-04T10:01:47.120286",
     "status": "completed"
    },
    "tags": []
   },
   "outputs": [],
   "source": [
    "import pandas as pd\n",
    "from sklearn.model_selection import train_test_split\n",
    "\n",
    "# Read the data\n",
    "X = pd.read_csv('../input/train.csv', index_col='Id') \n",
    "X_test = pd.read_csv('../input/test.csv', index_col='Id')\n",
    "\n",
    "# Remove rows with missing target, separate target from predictors\n",
    "X.dropna(axis=0, subset=['SalePrice'], inplace=True)\n",
    "y = X.SalePrice\n",
    "X.drop(['SalePrice'], axis=1, inplace=True)\n",
    "\n",
    "# To keep things simple, we'll drop columns with missing values\n",
    "cols_with_missing = [col for col in X.columns if X[col].isnull().any()] \n",
    "X.drop(cols_with_missing, axis=1, inplace=True)\n",
    "X_test.drop(cols_with_missing, axis=1, inplace=True)\n",
    "\n",
    "# Break off validation set from training data\n",
    "X_train, X_valid, y_train, y_valid = train_test_split(X, y,\n",
    "                                                      train_size=0.8, test_size=0.2,\n",
    "                                                      random_state=0)"
   ]
  },
  {
   "cell_type": "markdown",
   "id": "35876a45",
   "metadata": {
    "papermill": {
     "duration": 0.008667,
     "end_time": "2022-11-04T10:01:48.284444",
     "exception": false,
     "start_time": "2022-11-04T10:01:48.275777",
     "status": "completed"
    },
    "tags": []
   },
   "source": [
    "Use the next code cell to print the first five rows of the data."
   ]
  },
  {
   "cell_type": "code",
   "execution_count": 3,
   "id": "6d08b7fd",
   "metadata": {
    "execution": {
     "iopub.execute_input": "2022-11-04T10:01:48.302190Z",
     "iopub.status.busy": "2022-11-04T10:01:48.301856Z",
     "iopub.status.idle": "2022-11-04T10:01:48.331659Z",
     "shell.execute_reply": "2022-11-04T10:01:48.330604Z"
    },
    "papermill": {
     "duration": 0.041262,
     "end_time": "2022-11-04T10:01:48.333927",
     "exception": false,
     "start_time": "2022-11-04T10:01:48.292665",
     "status": "completed"
    },
    "tags": []
   },
   "outputs": [
    {
     "data": {
      "text/html": [
       "<div>\n",
       "<style scoped>\n",
       "    .dataframe tbody tr th:only-of-type {\n",
       "        vertical-align: middle;\n",
       "    }\n",
       "\n",
       "    .dataframe tbody tr th {\n",
       "        vertical-align: top;\n",
       "    }\n",
       "\n",
       "    .dataframe thead th {\n",
       "        text-align: right;\n",
       "    }\n",
       "</style>\n",
       "<table border=\"1\" class=\"dataframe\">\n",
       "  <thead>\n",
       "    <tr style=\"text-align: right;\">\n",
       "      <th></th>\n",
       "      <th>MSSubClass</th>\n",
       "      <th>MSZoning</th>\n",
       "      <th>LotArea</th>\n",
       "      <th>Street</th>\n",
       "      <th>LotShape</th>\n",
       "      <th>LandContour</th>\n",
       "      <th>Utilities</th>\n",
       "      <th>LotConfig</th>\n",
       "      <th>LandSlope</th>\n",
       "      <th>Neighborhood</th>\n",
       "      <th>...</th>\n",
       "      <th>OpenPorchSF</th>\n",
       "      <th>EnclosedPorch</th>\n",
       "      <th>3SsnPorch</th>\n",
       "      <th>ScreenPorch</th>\n",
       "      <th>PoolArea</th>\n",
       "      <th>MiscVal</th>\n",
       "      <th>MoSold</th>\n",
       "      <th>YrSold</th>\n",
       "      <th>SaleType</th>\n",
       "      <th>SaleCondition</th>\n",
       "    </tr>\n",
       "    <tr>\n",
       "      <th>Id</th>\n",
       "      <th></th>\n",
       "      <th></th>\n",
       "      <th></th>\n",
       "      <th></th>\n",
       "      <th></th>\n",
       "      <th></th>\n",
       "      <th></th>\n",
       "      <th></th>\n",
       "      <th></th>\n",
       "      <th></th>\n",
       "      <th></th>\n",
       "      <th></th>\n",
       "      <th></th>\n",
       "      <th></th>\n",
       "      <th></th>\n",
       "      <th></th>\n",
       "      <th></th>\n",
       "      <th></th>\n",
       "      <th></th>\n",
       "      <th></th>\n",
       "      <th></th>\n",
       "    </tr>\n",
       "  </thead>\n",
       "  <tbody>\n",
       "    <tr>\n",
       "      <th>619</th>\n",
       "      <td>20</td>\n",
       "      <td>RL</td>\n",
       "      <td>11694</td>\n",
       "      <td>Pave</td>\n",
       "      <td>Reg</td>\n",
       "      <td>Lvl</td>\n",
       "      <td>AllPub</td>\n",
       "      <td>Inside</td>\n",
       "      <td>Gtl</td>\n",
       "      <td>NridgHt</td>\n",
       "      <td>...</td>\n",
       "      <td>108</td>\n",
       "      <td>0</td>\n",
       "      <td>0</td>\n",
       "      <td>260</td>\n",
       "      <td>0</td>\n",
       "      <td>0</td>\n",
       "      <td>7</td>\n",
       "      <td>2007</td>\n",
       "      <td>New</td>\n",
       "      <td>Partial</td>\n",
       "    </tr>\n",
       "    <tr>\n",
       "      <th>871</th>\n",
       "      <td>20</td>\n",
       "      <td>RL</td>\n",
       "      <td>6600</td>\n",
       "      <td>Pave</td>\n",
       "      <td>Reg</td>\n",
       "      <td>Lvl</td>\n",
       "      <td>AllPub</td>\n",
       "      <td>Inside</td>\n",
       "      <td>Gtl</td>\n",
       "      <td>NAmes</td>\n",
       "      <td>...</td>\n",
       "      <td>0</td>\n",
       "      <td>0</td>\n",
       "      <td>0</td>\n",
       "      <td>0</td>\n",
       "      <td>0</td>\n",
       "      <td>0</td>\n",
       "      <td>8</td>\n",
       "      <td>2009</td>\n",
       "      <td>WD</td>\n",
       "      <td>Normal</td>\n",
       "    </tr>\n",
       "    <tr>\n",
       "      <th>93</th>\n",
       "      <td>30</td>\n",
       "      <td>RL</td>\n",
       "      <td>13360</td>\n",
       "      <td>Pave</td>\n",
       "      <td>IR1</td>\n",
       "      <td>HLS</td>\n",
       "      <td>AllPub</td>\n",
       "      <td>Inside</td>\n",
       "      <td>Gtl</td>\n",
       "      <td>Crawfor</td>\n",
       "      <td>...</td>\n",
       "      <td>0</td>\n",
       "      <td>44</td>\n",
       "      <td>0</td>\n",
       "      <td>0</td>\n",
       "      <td>0</td>\n",
       "      <td>0</td>\n",
       "      <td>8</td>\n",
       "      <td>2009</td>\n",
       "      <td>WD</td>\n",
       "      <td>Normal</td>\n",
       "    </tr>\n",
       "    <tr>\n",
       "      <th>818</th>\n",
       "      <td>20</td>\n",
       "      <td>RL</td>\n",
       "      <td>13265</td>\n",
       "      <td>Pave</td>\n",
       "      <td>IR1</td>\n",
       "      <td>Lvl</td>\n",
       "      <td>AllPub</td>\n",
       "      <td>CulDSac</td>\n",
       "      <td>Gtl</td>\n",
       "      <td>Mitchel</td>\n",
       "      <td>...</td>\n",
       "      <td>59</td>\n",
       "      <td>0</td>\n",
       "      <td>0</td>\n",
       "      <td>0</td>\n",
       "      <td>0</td>\n",
       "      <td>0</td>\n",
       "      <td>7</td>\n",
       "      <td>2008</td>\n",
       "      <td>WD</td>\n",
       "      <td>Normal</td>\n",
       "    </tr>\n",
       "    <tr>\n",
       "      <th>303</th>\n",
       "      <td>20</td>\n",
       "      <td>RL</td>\n",
       "      <td>13704</td>\n",
       "      <td>Pave</td>\n",
       "      <td>IR1</td>\n",
       "      <td>Lvl</td>\n",
       "      <td>AllPub</td>\n",
       "      <td>Corner</td>\n",
       "      <td>Gtl</td>\n",
       "      <td>CollgCr</td>\n",
       "      <td>...</td>\n",
       "      <td>81</td>\n",
       "      <td>0</td>\n",
       "      <td>0</td>\n",
       "      <td>0</td>\n",
       "      <td>0</td>\n",
       "      <td>0</td>\n",
       "      <td>1</td>\n",
       "      <td>2006</td>\n",
       "      <td>WD</td>\n",
       "      <td>Normal</td>\n",
       "    </tr>\n",
       "  </tbody>\n",
       "</table>\n",
       "<p>5 rows × 60 columns</p>\n",
       "</div>"
      ],
      "text/plain": [
       "     MSSubClass MSZoning  LotArea Street LotShape LandContour Utilities  \\\n",
       "Id                                                                        \n",
       "619          20       RL    11694   Pave      Reg         Lvl    AllPub   \n",
       "871          20       RL     6600   Pave      Reg         Lvl    AllPub   \n",
       "93           30       RL    13360   Pave      IR1         HLS    AllPub   \n",
       "818          20       RL    13265   Pave      IR1         Lvl    AllPub   \n",
       "303          20       RL    13704   Pave      IR1         Lvl    AllPub   \n",
       "\n",
       "    LotConfig LandSlope Neighborhood  ... OpenPorchSF EnclosedPorch 3SsnPorch  \\\n",
       "Id                                    ...                                       \n",
       "619    Inside       Gtl      NridgHt  ...         108             0         0   \n",
       "871    Inside       Gtl        NAmes  ...           0             0         0   \n",
       "93     Inside       Gtl      Crawfor  ...           0            44         0   \n",
       "818   CulDSac       Gtl      Mitchel  ...          59             0         0   \n",
       "303    Corner       Gtl      CollgCr  ...          81             0         0   \n",
       "\n",
       "    ScreenPorch  PoolArea  MiscVal  MoSold  YrSold SaleType SaleCondition  \n",
       "Id                                                                         \n",
       "619         260         0        0       7    2007      New       Partial  \n",
       "871           0         0        0       8    2009       WD        Normal  \n",
       "93            0         0        0       8    2009       WD        Normal  \n",
       "818           0         0        0       7    2008       WD        Normal  \n",
       "303           0         0        0       1    2006       WD        Normal  \n",
       "\n",
       "[5 rows x 60 columns]"
      ]
     },
     "execution_count": 3,
     "metadata": {},
     "output_type": "execute_result"
    }
   ],
   "source": [
    "X_train.head()"
   ]
  },
  {
   "cell_type": "markdown",
   "id": "03ff98fa",
   "metadata": {
    "papermill": {
     "duration": 0.008579,
     "end_time": "2022-11-04T10:01:48.351290",
     "exception": false,
     "start_time": "2022-11-04T10:01:48.342711",
     "status": "completed"
    },
    "tags": []
   },
   "source": [
    "Notice that the dataset contains both numerical and categorical variables.  You'll need to encode the categorical data before training a model.\n",
    "\n",
    "To compare different models, you'll use the same `score_dataset()` function from the tutorial.  This function reports the [mean absolute error](https://en.wikipedia.org/wiki/Mean_absolute_error) (MAE) from a random forest model."
   ]
  },
  {
   "cell_type": "code",
   "execution_count": 4,
   "id": "9681279c",
   "metadata": {
    "execution": {
     "iopub.execute_input": "2022-11-04T10:01:48.370067Z",
     "iopub.status.busy": "2022-11-04T10:01:48.369723Z",
     "iopub.status.idle": "2022-11-04T10:01:48.593641Z",
     "shell.execute_reply": "2022-11-04T10:01:48.592091Z"
    },
    "papermill": {
     "duration": 0.237248,
     "end_time": "2022-11-04T10:01:48.596882",
     "exception": false,
     "start_time": "2022-11-04T10:01:48.359634",
     "status": "completed"
    },
    "tags": []
   },
   "outputs": [],
   "source": [
    "from sklearn.ensemble import RandomForestRegressor\n",
    "from sklearn.metrics import mean_absolute_error\n",
    "\n",
    "# function for comparing different approaches\n",
    "def score_dataset(X_train, X_valid, y_train, y_valid):\n",
    "    model = RandomForestRegressor(n_estimators=100, random_state=0)\n",
    "    model.fit(X_train, y_train)\n",
    "    preds = model.predict(X_valid)\n",
    "    return mean_absolute_error(y_valid, preds)"
   ]
  },
  {
   "cell_type": "markdown",
   "id": "7f9246c8",
   "metadata": {
    "papermill": {
     "duration": 0.010954,
     "end_time": "2022-11-04T10:01:48.620128",
     "exception": false,
     "start_time": "2022-11-04T10:01:48.609174",
     "status": "completed"
    },
    "tags": []
   },
   "source": [
    "# Step 1: Drop columns with categorical data\n",
    "\n",
    "You'll get started with the most straightforward approach.  Use the code cell below to preprocess the data in `X_train` and `X_valid` to remove columns with categorical data.  Set the preprocessed DataFrames to `drop_X_train` and `drop_X_valid`, respectively.  "
   ]
  },
  {
   "cell_type": "code",
   "execution_count": 5,
   "id": "2bc0deeb",
   "metadata": {
    "execution": {
     "iopub.execute_input": "2022-11-04T10:01:48.641139Z",
     "iopub.status.busy": "2022-11-04T10:01:48.640429Z",
     "iopub.status.idle": "2022-11-04T10:01:48.653859Z",
     "shell.execute_reply": "2022-11-04T10:01:48.652119Z"
    },
    "papermill": {
     "duration": 0.02788,
     "end_time": "2022-11-04T10:01:48.656617",
     "exception": false,
     "start_time": "2022-11-04T10:01:48.628737",
     "status": "completed"
    },
    "tags": []
   },
   "outputs": [
    {
     "data": {
      "application/javascript": [
       "parent.postMessage({\"jupyterEvent\": \"custom.exercise_interaction\", \"data\": {\"outcomeType\": 1, \"valueTowardsCompletion\": 0.5, \"interactionType\": 1, \"questionType\": 2, \"questionId\": \"1_Drop\", \"learnToolsVersion\": \"0.3.4\", \"failureMessage\": \"\", \"exceptionClass\": \"\", \"trace\": \"\"}}, \"*\")"
      ],
      "text/plain": [
       "<IPython.core.display.Javascript object>"
      ]
     },
     "metadata": {},
     "output_type": "display_data"
    },
    {
     "data": {
      "text/markdown": [
       "<span style=\"color:#33cc33\">Correct</span>"
      ],
      "text/plain": [
       "Correct"
      ]
     },
     "metadata": {},
     "output_type": "display_data"
    }
   ],
   "source": [
    "# Fill in the lines below: drop columns in training and validation data\n",
    "drop_X_train = X_train.select_dtypes(exclude = [object])\n",
    "drop_X_valid = X_valid.select_dtypes(exclude = [object])\n",
    "\n",
    "# Check your answers\n",
    "step_1.check()"
   ]
  },
  {
   "cell_type": "code",
   "execution_count": 6,
   "id": "71eb0631",
   "metadata": {
    "execution": {
     "iopub.execute_input": "2022-11-04T10:01:48.678012Z",
     "iopub.status.busy": "2022-11-04T10:01:48.677377Z",
     "iopub.status.idle": "2022-11-04T10:01:48.683456Z",
     "shell.execute_reply": "2022-11-04T10:01:48.682128Z"
    },
    "papermill": {
     "duration": 0.019688,
     "end_time": "2022-11-04T10:01:48.685640",
     "exception": false,
     "start_time": "2022-11-04T10:01:48.665952",
     "status": "completed"
    },
    "tags": []
   },
   "outputs": [],
   "source": [
    "# Lines below will give you a hint or solution code\n",
    "#step_1.hint()\n",
    "#step_1.solution()"
   ]
  },
  {
   "cell_type": "markdown",
   "id": "1bc6c428",
   "metadata": {
    "papermill": {
     "duration": 0.009246,
     "end_time": "2022-11-04T10:01:48.704162",
     "exception": false,
     "start_time": "2022-11-04T10:01:48.694916",
     "status": "completed"
    },
    "tags": []
   },
   "source": [
    "Run the next code cell to get the MAE for this approach."
   ]
  },
  {
   "cell_type": "code",
   "execution_count": 7,
   "id": "5dffbd12",
   "metadata": {
    "execution": {
     "iopub.execute_input": "2022-11-04T10:01:48.725130Z",
     "iopub.status.busy": "2022-11-04T10:01:48.724785Z",
     "iopub.status.idle": "2022-11-04T10:01:49.802379Z",
     "shell.execute_reply": "2022-11-04T10:01:49.800603Z"
    },
    "papermill": {
     "duration": 1.091129,
     "end_time": "2022-11-04T10:01:49.805564",
     "exception": false,
     "start_time": "2022-11-04T10:01:48.714435",
     "status": "completed"
    },
    "tags": []
   },
   "outputs": [
    {
     "name": "stdout",
     "output_type": "stream",
     "text": [
      "MAE from Approach 1 (Drop categorical variables):\n",
      "17837.82570776256\n"
     ]
    }
   ],
   "source": [
    "print(\"MAE from Approach 1 (Drop categorical variables):\")\n",
    "print(score_dataset(drop_X_train, drop_X_valid, y_train, y_valid))"
   ]
  },
  {
   "cell_type": "markdown",
   "id": "9a6a6426",
   "metadata": {
    "papermill": {
     "duration": 0.008738,
     "end_time": "2022-11-04T10:01:49.823411",
     "exception": false,
     "start_time": "2022-11-04T10:01:49.814673",
     "status": "completed"
    },
    "tags": []
   },
   "source": [
    "Before jumping into ordinal encoding, we'll investigate the dataset.  Specifically, we'll look at the `'Condition2'` column.  The code cell below prints the unique entries in both the training and validation sets."
   ]
  },
  {
   "cell_type": "code",
   "execution_count": 8,
   "id": "b46ec0e9",
   "metadata": {
    "execution": {
     "iopub.execute_input": "2022-11-04T10:01:49.843454Z",
     "iopub.status.busy": "2022-11-04T10:01:49.842946Z",
     "iopub.status.idle": "2022-11-04T10:01:49.849590Z",
     "shell.execute_reply": "2022-11-04T10:01:49.847897Z"
    },
    "papermill": {
     "duration": 0.020188,
     "end_time": "2022-11-04T10:01:49.852559",
     "exception": false,
     "start_time": "2022-11-04T10:01:49.832371",
     "status": "completed"
    },
    "tags": []
   },
   "outputs": [
    {
     "name": "stdout",
     "output_type": "stream",
     "text": [
      "Unique values in 'Condition2' column in training data: ['Norm' 'PosA' 'Feedr' 'PosN' 'Artery' 'RRAe']\n",
      "\n",
      "Unique values in 'Condition2' column in validation data: ['Norm' 'RRAn' 'RRNn' 'Artery' 'Feedr' 'PosN']\n"
     ]
    }
   ],
   "source": [
    "print(\"Unique values in 'Condition2' column in training data:\", X_train['Condition2'].unique())\n",
    "print(\"\\nUnique values in 'Condition2' column in validation data:\", X_valid['Condition2'].unique())"
   ]
  },
  {
   "cell_type": "markdown",
   "id": "be4c3d09",
   "metadata": {
    "papermill": {
     "duration": 0.008904,
     "end_time": "2022-11-04T10:01:49.870553",
     "exception": false,
     "start_time": "2022-11-04T10:01:49.861649",
     "status": "completed"
    },
    "tags": []
   },
   "source": [
    "# Step 2: Ordinal encoding\n",
    "\n",
    "### Part A\n",
    "\n",
    "If you now write code to: \n",
    "- fit an ordinal encoder to the training data, and then \n",
    "- use it to transform both the training and validation data, \n",
    "\n",
    "you'll get an error.  Can you see why this is the case?  (_You'll need  to use the above output to answer this question._)"
   ]
  },
  {
   "cell_type": "code",
   "execution_count": 9,
   "id": "756043c6",
   "metadata": {
    "execution": {
     "iopub.execute_input": "2022-11-04T10:01:49.890155Z",
     "iopub.status.busy": "2022-11-04T10:01:49.889549Z",
     "iopub.status.idle": "2022-11-04T10:01:49.899586Z",
     "shell.execute_reply": "2022-11-04T10:01:49.898016Z"
    },
    "papermill": {
     "duration": 0.022929,
     "end_time": "2022-11-04T10:01:49.902269",
     "exception": false,
     "start_time": "2022-11-04T10:01:49.879340",
     "status": "completed"
    },
    "tags": []
   },
   "outputs": [
    {
     "data": {
      "application/javascript": [
       "parent.postMessage({\"jupyterEvent\": \"custom.exercise_interaction\", \"data\": {\"outcomeType\": 1, \"valueTowardsCompletion\": 0.5, \"interactionType\": 1, \"questionType\": 4, \"questionId\": \"2.1_LabelA\", \"learnToolsVersion\": \"0.3.4\", \"failureMessage\": \"\", \"exceptionClass\": \"\", \"trace\": \"\"}}, \"*\")"
      ],
      "text/plain": [
       "<IPython.core.display.Javascript object>"
      ]
     },
     "metadata": {},
     "output_type": "display_data"
    },
    {
     "data": {
      "text/markdown": [
       "<span style=\"color:#33cc33\">Correct:</span> \n",
       "\n",
       "Fitting an ordinal encoder to a column in the training data creates a corresponding integer-valued label for each unique value **that appears in the training data**. In the case that the validation data contains values that don't also appear in the training data, the encoder will throw an error, because these values won't have an integer assigned to them.  Notice that the `'Condition2'` column in the validation data contains the values `'RRAn'` and `'RRNn'`, but these don't appear in the training data -- thus, if we try to use an ordinal encoder with scikit-learn, the code will throw an error."
      ],
      "text/plain": [
       "Correct: \n",
       "\n",
       "Fitting an ordinal encoder to a column in the training data creates a corresponding integer-valued label for each unique value **that appears in the training data**. In the case that the validation data contains values that don't also appear in the training data, the encoder will throw an error, because these values won't have an integer assigned to them.  Notice that the `'Condition2'` column in the validation data contains the values `'RRAn'` and `'RRNn'`, but these don't appear in the training data -- thus, if we try to use an ordinal encoder with scikit-learn, the code will throw an error."
      ]
     },
     "metadata": {},
     "output_type": "display_data"
    }
   ],
   "source": [
    "# Check your answer (Run this code cell to receive credit!)\n",
    "step_2.a.check()"
   ]
  },
  {
   "cell_type": "code",
   "execution_count": 10,
   "id": "a0ba59a9",
   "metadata": {
    "execution": {
     "iopub.execute_input": "2022-11-04T10:01:49.922158Z",
     "iopub.status.busy": "2022-11-04T10:01:49.921805Z",
     "iopub.status.idle": "2022-11-04T10:01:49.927451Z",
     "shell.execute_reply": "2022-11-04T10:01:49.925691Z"
    },
    "papermill": {
     "duration": 0.01861,
     "end_time": "2022-11-04T10:01:49.930141",
     "exception": false,
     "start_time": "2022-11-04T10:01:49.911531",
     "status": "completed"
    },
    "tags": []
   },
   "outputs": [],
   "source": [
    "#step_2.a.hint()"
   ]
  },
  {
   "cell_type": "markdown",
   "id": "862b1442",
   "metadata": {
    "papermill": {
     "duration": 0.008987,
     "end_time": "2022-11-04T10:01:49.948725",
     "exception": false,
     "start_time": "2022-11-04T10:01:49.939738",
     "status": "completed"
    },
    "tags": []
   },
   "source": [
    "This is a common problem that you'll encounter with real-world data, and there are many approaches to fixing this issue.  For instance, you can write a custom ordinal encoder to deal with new categories.  The simplest approach, however, is to drop the problematic categorical columns.  \n",
    "\n",
    "Run the code cell below to save the problematic columns to a Python list `bad_label_cols`.  Likewise, columns that can be safely ordinal encoded are stored in `good_label_cols`."
   ]
  },
  {
   "cell_type": "code",
   "execution_count": 11,
   "id": "e61a88a0",
   "metadata": {
    "execution": {
     "iopub.execute_input": "2022-11-04T10:01:49.968881Z",
     "iopub.status.busy": "2022-11-04T10:01:49.968547Z",
     "iopub.status.idle": "2022-11-04T10:01:49.984182Z",
     "shell.execute_reply": "2022-11-04T10:01:49.982124Z"
    },
    "papermill": {
     "duration": 0.029838,
     "end_time": "2022-11-04T10:01:49.987847",
     "exception": false,
     "start_time": "2022-11-04T10:01:49.958009",
     "status": "completed"
    },
    "tags": []
   },
   "outputs": [
    {
     "name": "stdout",
     "output_type": "stream",
     "text": [
      "Categorical columns that will be ordinal encoded: ['MSZoning', 'Street', 'LotShape', 'LandContour', 'Utilities', 'LotConfig', 'LandSlope', 'Neighborhood', 'Condition1', 'BldgType', 'HouseStyle', 'RoofStyle', 'Exterior1st', 'Exterior2nd', 'ExterQual', 'ExterCond', 'Foundation', 'Heating', 'HeatingQC', 'CentralAir', 'KitchenQual', 'PavedDrive', 'SaleType', 'SaleCondition']\n",
      "\n",
      "Categorical columns that will be dropped from the dataset: ['Functional', 'RoofMatl', 'Condition2']\n"
     ]
    }
   ],
   "source": [
    "# Categorical columns in the training data\n",
    "object_cols = [col for col in X_train.columns if X_train[col].dtype == \"object\"]\n",
    "\n",
    "# Columns that can be safely ordinal encoded\n",
    "good_label_cols = [col for col in object_cols if \n",
    "                   set(X_valid[col]).issubset(set(X_train[col]))] #make sure that features valid data also appear in training data\n",
    "        \n",
    "# Problematic columns that will be dropped from the dataset\n",
    "bad_label_cols = list(set(object_cols)-set(good_label_cols))\n",
    "        \n",
    "print('Categorical columns that will be ordinal encoded:', good_label_cols)\n",
    "print('\\nCategorical columns that will be dropped from the dataset:', bad_label_cols)"
   ]
  },
  {
   "cell_type": "markdown",
   "id": "50d8b408",
   "metadata": {
    "papermill": {
     "duration": 0.009065,
     "end_time": "2022-11-04T10:01:50.006473",
     "exception": false,
     "start_time": "2022-11-04T10:01:49.997408",
     "status": "completed"
    },
    "tags": []
   },
   "source": [
    "### Part B\n",
    "\n",
    "Use the next code cell to ordinal encode the data in `X_train` and `X_valid`.  Set the preprocessed DataFrames to `label_X_train` and `label_X_valid`, respectively.  \n",
    "- We have provided code below to drop the categorical columns in `bad_label_cols` from the dataset. \n",
    "- You should ordinal encode the categorical columns in `good_label_cols`.  "
   ]
  },
  {
   "cell_type": "code",
   "execution_count": 12,
   "id": "d39eb8c1",
   "metadata": {
    "execution": {
     "iopub.execute_input": "2022-11-04T10:01:50.026458Z",
     "iopub.status.busy": "2022-11-04T10:01:50.026118Z",
     "iopub.status.idle": "2022-11-04T10:01:50.071002Z",
     "shell.execute_reply": "2022-11-04T10:01:50.069796Z"
    },
    "papermill": {
     "duration": 0.057175,
     "end_time": "2022-11-04T10:01:50.073028",
     "exception": false,
     "start_time": "2022-11-04T10:01:50.015853",
     "status": "completed"
    },
    "tags": []
   },
   "outputs": [
    {
     "data": {
      "application/javascript": [
       "parent.postMessage({\"jupyterEvent\": \"custom.exercise_interaction\", \"data\": {\"outcomeType\": 1, \"valueTowardsCompletion\": 0.5, \"interactionType\": 1, \"questionType\": 2, \"questionId\": \"2.2_LabelB\", \"learnToolsVersion\": \"0.3.4\", \"failureMessage\": \"\", \"exceptionClass\": \"\", \"trace\": \"\"}}, \"*\")"
      ],
      "text/plain": [
       "<IPython.core.display.Javascript object>"
      ]
     },
     "metadata": {},
     "output_type": "display_data"
    },
    {
     "data": {
      "text/markdown": [
       "<span style=\"color:#33cc33\">Correct</span>"
      ],
      "text/plain": [
       "Correct"
      ]
     },
     "metadata": {},
     "output_type": "display_data"
    }
   ],
   "source": [
    "from sklearn.preprocessing import OrdinalEncoder\n",
    "\n",
    "# Drop categorical columns that will not be encoded\n",
    "label_X_train = X_train.drop(bad_label_cols, axis=1)\n",
    "label_X_valid = X_valid.drop(bad_label_cols, axis=1)\n",
    "\n",
    "# Apply ordinal encoder\n",
    "ordinal_encoder = OrdinalEncoder()\n",
    "label_X_train[good_label_cols] = ordinal_encoder.fit_transform(X_train[good_label_cols])\n",
    "label_X_valid[good_label_cols] = ordinal_encoder.transform(X_valid[good_label_cols])\n",
    "\n",
    "# Check your answer\n",
    "step_2.b.check()"
   ]
  },
  {
   "cell_type": "code",
   "execution_count": 13,
   "id": "d759cd82",
   "metadata": {
    "execution": {
     "iopub.execute_input": "2022-11-04T10:01:50.093614Z",
     "iopub.status.busy": "2022-11-04T10:01:50.093276Z",
     "iopub.status.idle": "2022-11-04T10:01:50.098255Z",
     "shell.execute_reply": "2022-11-04T10:01:50.096953Z"
    },
    "papermill": {
     "duration": 0.017822,
     "end_time": "2022-11-04T10:01:50.100284",
     "exception": false,
     "start_time": "2022-11-04T10:01:50.082462",
     "status": "completed"
    },
    "tags": []
   },
   "outputs": [],
   "source": [
    "# Lines below will give you a hint or solution code\n",
    "#step_2.b.hint()\n",
    "#step_2.b.solution()"
   ]
  },
  {
   "cell_type": "markdown",
   "id": "d1630a10",
   "metadata": {
    "papermill": {
     "duration": 0.00875,
     "end_time": "2022-11-04T10:01:50.118120",
     "exception": false,
     "start_time": "2022-11-04T10:01:50.109370",
     "status": "completed"
    },
    "tags": []
   },
   "source": [
    "Run the next code cell to get the MAE for this approach."
   ]
  },
  {
   "cell_type": "code",
   "execution_count": 14,
   "id": "1b762182",
   "metadata": {
    "execution": {
     "iopub.execute_input": "2022-11-04T10:01:50.138014Z",
     "iopub.status.busy": "2022-11-04T10:01:50.137692Z",
     "iopub.status.idle": "2022-11-04T10:01:51.496630Z",
     "shell.execute_reply": "2022-11-04T10:01:51.494968Z"
    },
    "papermill": {
     "duration": 1.372204,
     "end_time": "2022-11-04T10:01:51.499347",
     "exception": false,
     "start_time": "2022-11-04T10:01:50.127143",
     "status": "completed"
    },
    "tags": []
   },
   "outputs": [
    {
     "name": "stdout",
     "output_type": "stream",
     "text": [
      "MAE from Approach 2 (Ordinal Encoding):\n",
      "17098.01649543379\n"
     ]
    }
   ],
   "source": [
    "print(\"MAE from Approach 2 (Ordinal Encoding):\") \n",
    "print(score_dataset(label_X_train, label_X_valid, y_train, y_valid))"
   ]
  },
  {
   "cell_type": "markdown",
   "id": "56f81c3d",
   "metadata": {
    "papermill": {
     "duration": 0.009334,
     "end_time": "2022-11-04T10:01:51.518716",
     "exception": false,
     "start_time": "2022-11-04T10:01:51.509382",
     "status": "completed"
    },
    "tags": []
   },
   "source": [
    "So far, you've tried two different approaches to dealing with categorical variables.  And, you've seen that encoding categorical data yields better results than removing columns from the dataset.\n",
    "\n",
    "Soon, you'll try one-hot encoding.  Before then, there's one additional topic we need to cover.  Begin by running the next code cell without changes.  "
   ]
  },
  {
   "cell_type": "code",
   "execution_count": 15,
   "id": "955f8cd5",
   "metadata": {
    "execution": {
     "iopub.execute_input": "2022-11-04T10:01:51.539829Z",
     "iopub.status.busy": "2022-11-04T10:01:51.539497Z",
     "iopub.status.idle": "2022-11-04T10:01:51.554016Z",
     "shell.execute_reply": "2022-11-04T10:01:51.552348Z"
    },
    "papermill": {
     "duration": 0.028227,
     "end_time": "2022-11-04T10:01:51.556656",
     "exception": false,
     "start_time": "2022-11-04T10:01:51.528429",
     "status": "completed"
    },
    "tags": []
   },
   "outputs": [
    {
     "data": {
      "text/plain": [
       "[('Street', 2),\n",
       " ('Utilities', 2),\n",
       " ('CentralAir', 2),\n",
       " ('LandSlope', 3),\n",
       " ('PavedDrive', 3),\n",
       " ('LotShape', 4),\n",
       " ('LandContour', 4),\n",
       " ('ExterQual', 4),\n",
       " ('KitchenQual', 4),\n",
       " ('MSZoning', 5),\n",
       " ('LotConfig', 5),\n",
       " ('BldgType', 5),\n",
       " ('ExterCond', 5),\n",
       " ('HeatingQC', 5),\n",
       " ('Condition2', 6),\n",
       " ('RoofStyle', 6),\n",
       " ('Foundation', 6),\n",
       " ('Heating', 6),\n",
       " ('Functional', 6),\n",
       " ('SaleCondition', 6),\n",
       " ('RoofMatl', 7),\n",
       " ('HouseStyle', 8),\n",
       " ('Condition1', 9),\n",
       " ('SaleType', 9),\n",
       " ('Exterior1st', 15),\n",
       " ('Exterior2nd', 16),\n",
       " ('Neighborhood', 25)]"
      ]
     },
     "execution_count": 15,
     "metadata": {},
     "output_type": "execute_result"
    }
   ],
   "source": [
    "# Get number of unique entries in each column with categorical data\n",
    "object_nunique = list(map(lambda col: X_train[col].nunique(), object_cols))\n",
    "d = dict(zip(object_cols, object_nunique))\n",
    "\n",
    "# Print number of unique entries by column, in ascending order\n",
    "sorted(d.items(), key=lambda x: x[1])"
   ]
  },
  {
   "cell_type": "markdown",
   "id": "0d81a5c3",
   "metadata": {
    "papermill": {
     "duration": 0.009812,
     "end_time": "2022-11-04T10:01:51.576330",
     "exception": false,
     "start_time": "2022-11-04T10:01:51.566518",
     "status": "completed"
    },
    "tags": []
   },
   "source": [
    "# Step 3: Investigating cardinality\n",
    "\n",
    "### Part A\n",
    "\n",
    "The output above shows, for each column with categorical data, the number of unique values in the column.  For instance, the `'Street'` column in the training data has two unique values: `'Grvl'` and `'Pave'`, corresponding to a gravel road and a paved road, respectively.\n",
    "\n",
    "We refer to the number of unique entries of a categorical variable as the **cardinality** of that categorical variable.  For instance, the `'Street'` variable has cardinality 2.\n",
    "\n",
    "Use the output above to answer the questions below."
   ]
  },
  {
   "cell_type": "code",
   "execution_count": 16,
   "id": "f3356222",
   "metadata": {
    "execution": {
     "iopub.execute_input": "2022-11-04T10:01:51.598115Z",
     "iopub.status.busy": "2022-11-04T10:01:51.597773Z",
     "iopub.status.idle": "2022-11-04T10:01:51.607994Z",
     "shell.execute_reply": "2022-11-04T10:01:51.606443Z"
    },
    "papermill": {
     "duration": 0.024039,
     "end_time": "2022-11-04T10:01:51.610603",
     "exception": false,
     "start_time": "2022-11-04T10:01:51.586564",
     "status": "completed"
    },
    "tags": []
   },
   "outputs": [
    {
     "data": {
      "application/javascript": [
       "parent.postMessage({\"jupyterEvent\": \"custom.exercise_interaction\", \"data\": {\"outcomeType\": 1, \"valueTowardsCompletion\": 0.5, \"interactionType\": 1, \"questionType\": 1, \"questionId\": \"3.1_CardinalityA\", \"learnToolsVersion\": \"0.3.4\", \"failureMessage\": \"\", \"exceptionClass\": \"\", \"trace\": \"\"}}, \"*\")"
      ],
      "text/plain": [
       "<IPython.core.display.Javascript object>"
      ]
     },
     "metadata": {},
     "output_type": "display_data"
    },
    {
     "data": {
      "text/markdown": [
       "<span style=\"color:#33cc33\">Correct</span>"
      ],
      "text/plain": [
       "Correct"
      ]
     },
     "metadata": {},
     "output_type": "display_data"
    }
   ],
   "source": [
    "# Fill in the line below: How many categorical variables in the training data\n",
    "# have cardinality greater than 10?\n",
    "high_cardinality_numcols = len([value for value in d.values() if value > 10])\n",
    "\n",
    "# Fill in the line below: How many columns are needed to one-hot encode the \n",
    "# 'Neighborhood' variable in the training data?\n",
    "num_cols_neighborhood = X_train['Neighborhood'].nunique()\n",
    "\n",
    "# Check your answers\n",
    "step_3.a.check()"
   ]
  },
  {
   "cell_type": "code",
   "execution_count": 17,
   "id": "dacbdccf",
   "metadata": {
    "execution": {
     "iopub.execute_input": "2022-11-04T10:01:51.632863Z",
     "iopub.status.busy": "2022-11-04T10:01:51.632358Z",
     "iopub.status.idle": "2022-11-04T10:01:51.638028Z",
     "shell.execute_reply": "2022-11-04T10:01:51.636125Z"
    },
    "papermill": {
     "duration": 0.019444,
     "end_time": "2022-11-04T10:01:51.640432",
     "exception": false,
     "start_time": "2022-11-04T10:01:51.620988",
     "status": "completed"
    },
    "tags": []
   },
   "outputs": [],
   "source": [
    "# Lines below will give you a hint or solution code\n",
    "#step_3.a.hint()\n",
    "#step_3.a.solution()"
   ]
  },
  {
   "cell_type": "markdown",
   "id": "474b6888",
   "metadata": {
    "papermill": {
     "duration": 0.009759,
     "end_time": "2022-11-04T10:01:51.660378",
     "exception": false,
     "start_time": "2022-11-04T10:01:51.650619",
     "status": "completed"
    },
    "tags": []
   },
   "source": [
    "### Part B\n",
    "\n",
    "For large datasets with many rows, one-hot encoding can greatly expand the size of the dataset.  For this reason, we typically will only one-hot encode columns with relatively low cardinality.  Then, high cardinality columns can either be dropped from the dataset, or we can use ordinal encoding.\n",
    "\n",
    "As an example, consider a dataset with 10,000 rows, and containing one categorical column with 100 unique entries.  \n",
    "- If this column is replaced with the corresponding one-hot encoding, how many entries are added to the dataset?  \n",
    "- If we instead replace the column with the ordinal encoding, how many entries are added?  \n",
    "\n",
    "Use your answers to fill in the lines below."
   ]
  },
  {
   "cell_type": "code",
   "execution_count": 18,
   "id": "43b1a873",
   "metadata": {
    "execution": {
     "iopub.execute_input": "2022-11-04T10:01:51.682443Z",
     "iopub.status.busy": "2022-11-04T10:01:51.682056Z",
     "iopub.status.idle": "2022-11-04T10:01:51.690702Z",
     "shell.execute_reply": "2022-11-04T10:01:51.688900Z"
    },
    "papermill": {
     "duration": 0.022789,
     "end_time": "2022-11-04T10:01:51.693491",
     "exception": false,
     "start_time": "2022-11-04T10:01:51.670702",
     "status": "completed"
    },
    "tags": []
   },
   "outputs": [
    {
     "data": {
      "application/javascript": [
       "parent.postMessage({\"jupyterEvent\": \"custom.exercise_interaction\", \"data\": {\"outcomeType\": 1, \"valueTowardsCompletion\": 0.5, \"interactionType\": 1, \"questionType\": 1, \"questionId\": \"3.2_CardinalityB\", \"learnToolsVersion\": \"0.3.4\", \"failureMessage\": \"\", \"exceptionClass\": \"\", \"trace\": \"\"}}, \"*\")"
      ],
      "text/plain": [
       "<IPython.core.display.Javascript object>"
      ]
     },
     "metadata": {},
     "output_type": "display_data"
    },
    {
     "data": {
      "text/markdown": [
       "<span style=\"color:#33cc33\">Correct</span>"
      ],
      "text/plain": [
       "Correct"
      ]
     },
     "metadata": {},
     "output_type": "display_data"
    }
   ],
   "source": [
    "# Fill in the line below: How many entries are added to the dataset by \n",
    "# replacing the column with a one-hot encoding?\n",
    "OH_entries_added = 1e4*100 - 1e4\n",
    "\n",
    "# Fill in the line below: How many entries are added to the dataset by\n",
    "# replacing the column with an ordinal encoding?\n",
    "label_entries_added = 0\n",
    "\n",
    "# Check your answers\n",
    "step_3.b.check()"
   ]
  },
  {
   "cell_type": "code",
   "execution_count": 19,
   "id": "bfe5b6ed",
   "metadata": {
    "execution": {
     "iopub.execute_input": "2022-11-04T10:01:51.716153Z",
     "iopub.status.busy": "2022-11-04T10:01:51.715788Z",
     "iopub.status.idle": "2022-11-04T10:01:51.719294Z",
     "shell.execute_reply": "2022-11-04T10:01:51.718465Z"
    },
    "papermill": {
     "duration": 0.017165,
     "end_time": "2022-11-04T10:01:51.721106",
     "exception": false,
     "start_time": "2022-11-04T10:01:51.703941",
     "status": "completed"
    },
    "tags": []
   },
   "outputs": [],
   "source": [
    "# Lines below will give you a hint or solution code\n",
    "#step_3.b.hint()\n",
    "#step_3.b.solution()"
   ]
  },
  {
   "cell_type": "markdown",
   "id": "be571f28",
   "metadata": {
    "papermill": {
     "duration": 0.009424,
     "end_time": "2022-11-04T10:01:51.740628",
     "exception": false,
     "start_time": "2022-11-04T10:01:51.731204",
     "status": "completed"
    },
    "tags": []
   },
   "source": [
    "Next, you'll experiment with one-hot encoding.  But, instead of encoding all of the categorical variables in the dataset, you'll only create a one-hot encoding for columns with cardinality less than 10.\n",
    "\n",
    "Run the code cell below without changes to set `low_cardinality_cols` to a Python list containing the columns that will be one-hot encoded.  Likewise, `high_cardinality_cols` contains a list of categorical columns that will be dropped from the dataset."
   ]
  },
  {
   "cell_type": "code",
   "execution_count": 20,
   "id": "95b09469",
   "metadata": {
    "execution": {
     "iopub.execute_input": "2022-11-04T10:01:51.762233Z",
     "iopub.status.busy": "2022-11-04T10:01:51.761929Z",
     "iopub.status.idle": "2022-11-04T10:01:51.773839Z",
     "shell.execute_reply": "2022-11-04T10:01:51.772099Z"
    },
    "papermill": {
     "duration": 0.025477,
     "end_time": "2022-11-04T10:01:51.776048",
     "exception": false,
     "start_time": "2022-11-04T10:01:51.750571",
     "status": "completed"
    },
    "tags": []
   },
   "outputs": [
    {
     "name": "stdout",
     "output_type": "stream",
     "text": [
      "Categorical columns that will be one-hot encoded: ['MSZoning', 'Street', 'LotShape', 'LandContour', 'Utilities', 'LotConfig', 'LandSlope', 'Condition1', 'Condition2', 'BldgType', 'HouseStyle', 'RoofStyle', 'RoofMatl', 'ExterQual', 'ExterCond', 'Foundation', 'Heating', 'HeatingQC', 'CentralAir', 'KitchenQual', 'Functional', 'PavedDrive', 'SaleType', 'SaleCondition']\n",
      "\n",
      "Categorical columns that will be dropped from the dataset: ['Neighborhood', 'Exterior1st', 'Exterior2nd']\n"
     ]
    }
   ],
   "source": [
    "# Columns that will be one-hot encoded\n",
    "low_cardinality_cols = [col for col in object_cols if X_train[col].nunique() < 10]\n",
    "\n",
    "# Columns that will be dropped from the dataset\n",
    "high_cardinality_cols = list(set(object_cols)-set(low_cardinality_cols))\n",
    "\n",
    "print('Categorical columns that will be one-hot encoded:', low_cardinality_cols)\n",
    "print('\\nCategorical columns that will be dropped from the dataset:', high_cardinality_cols)"
   ]
  },
  {
   "cell_type": "markdown",
   "id": "bdfa0717",
   "metadata": {
    "papermill": {
     "duration": 0.00958,
     "end_time": "2022-11-04T10:01:51.797963",
     "exception": false,
     "start_time": "2022-11-04T10:01:51.788383",
     "status": "completed"
    },
    "tags": []
   },
   "source": [
    "# Step 4: One-hot encoding\n",
    "\n",
    "Use the next code cell to one-hot encode the data in `X_train` and `X_valid`.  Set the preprocessed DataFrames to `OH_X_train` and `OH_X_valid`, respectively.  \n",
    "- The full list of categorical columns in the dataset can be found in the Python list `object_cols`.\n",
    "- You should only one-hot encode the categorical columns in `low_cardinality_cols`.  All other categorical columns should be dropped from the dataset. "
   ]
  },
  {
   "cell_type": "code",
   "execution_count": 21,
   "id": "af5f13d4",
   "metadata": {
    "execution": {
     "iopub.execute_input": "2022-11-04T10:01:51.819413Z",
     "iopub.status.busy": "2022-11-04T10:01:51.819092Z",
     "iopub.status.idle": "2022-11-04T10:01:51.858469Z",
     "shell.execute_reply": "2022-11-04T10:01:51.857554Z"
    },
    "papermill": {
     "duration": 0.052173,
     "end_time": "2022-11-04T10:01:51.860177",
     "exception": false,
     "start_time": "2022-11-04T10:01:51.808004",
     "status": "completed"
    },
    "tags": []
   },
   "outputs": [
    {
     "data": {
      "application/javascript": [
       "parent.postMessage({\"jupyterEvent\": \"custom.exercise_interaction\", \"data\": {\"outcomeType\": 1, \"valueTowardsCompletion\": 0.5, \"interactionType\": 1, \"questionType\": 2, \"questionId\": \"4_OneHot\", \"learnToolsVersion\": \"0.3.4\", \"failureMessage\": \"\", \"exceptionClass\": \"\", \"trace\": \"\"}}, \"*\")"
      ],
      "text/plain": [
       "<IPython.core.display.Javascript object>"
      ]
     },
     "metadata": {},
     "output_type": "display_data"
    },
    {
     "data": {
      "text/markdown": [
       "<span style=\"color:#33cc33\">Correct</span>"
      ],
      "text/plain": [
       "Correct"
      ]
     },
     "metadata": {},
     "output_type": "display_data"
    }
   ],
   "source": [
    "from sklearn.preprocessing import OneHotEncoder\n",
    "\n",
    "# Apply one-hot encoder to each column with categorical data\n",
    "ohe = OneHotEncoder(handle_unknown = 'ignore', sparse = False)\n",
    "OH_X_train_col = pd.DataFrame(ohe.fit_transform(X_train[low_cardinality_cols]))\n",
    "OH_X_valid_col = pd.DataFrame(ohe.transform(X_valid[low_cardinality_cols]))\n",
    "\n",
    "# One-hot encoding removed index; put it back\n",
    "OH_X_train_col.index = X_train.index\n",
    "OH_X_valid_col.index = X_valid.index\n",
    "\n",
    "# Remove categorical columns (will replace with one-hot encoding)\n",
    "new_X_train = X_train.drop(X_train[object_cols], axis = 1)\n",
    "new_X_valid = X_valid.drop(X_valid[object_cols], axis = 1)\n",
    "\n",
    "OH_X_train = pd.concat([new_X_train, OH_X_train_col], axis = 1)\n",
    "OH_X_valid = pd.concat([new_X_valid, OH_X_valid_col], axis = 1)\n",
    "\n",
    "# Check your answer\n",
    "step_4.check()"
   ]
  },
  {
   "cell_type": "code",
   "execution_count": 22,
   "id": "b658c8be",
   "metadata": {
    "execution": {
     "iopub.execute_input": "2022-11-04T10:01:51.881542Z",
     "iopub.status.busy": "2022-11-04T10:01:51.881212Z",
     "iopub.status.idle": "2022-11-04T10:01:51.884956Z",
     "shell.execute_reply": "2022-11-04T10:01:51.884278Z"
    },
    "papermill": {
     "duration": 0.01625,
     "end_time": "2022-11-04T10:01:51.886609",
     "exception": false,
     "start_time": "2022-11-04T10:01:51.870359",
     "status": "completed"
    },
    "tags": []
   },
   "outputs": [],
   "source": [
    "# Lines below will give you a hint or solution code\n",
    "#step_4.hint()\n",
    "#step_4.solution()"
   ]
  },
  {
   "cell_type": "markdown",
   "id": "475cad10",
   "metadata": {
    "papermill": {
     "duration": 0.009761,
     "end_time": "2022-11-04T10:01:51.906674",
     "exception": false,
     "start_time": "2022-11-04T10:01:51.896913",
     "status": "completed"
    },
    "tags": []
   },
   "source": [
    "Run the next code cell to get the MAE for this approach."
   ]
  },
  {
   "cell_type": "code",
   "execution_count": 23,
   "id": "67872480",
   "metadata": {
    "execution": {
     "iopub.execute_input": "2022-11-04T10:01:51.929203Z",
     "iopub.status.busy": "2022-11-04T10:01:51.928391Z",
     "iopub.status.idle": "2022-11-04T10:01:53.589682Z",
     "shell.execute_reply": "2022-11-04T10:01:53.587176Z"
    },
    "papermill": {
     "duration": 1.675389,
     "end_time": "2022-11-04T10:01:53.592432",
     "exception": false,
     "start_time": "2022-11-04T10:01:51.917043",
     "status": "completed"
    },
    "tags": []
   },
   "outputs": [
    {
     "name": "stdout",
     "output_type": "stream",
     "text": [
      "MAE from Approach 3 (One-Hot Encoding):\n"
     ]
    },
    {
     "name": "stderr",
     "output_type": "stream",
     "text": [
      "/opt/conda/lib/python3.7/site-packages/sklearn/utils/validation.py:1692: FutureWarning: Feature names only support names that are all strings. Got feature names with dtypes: ['int', 'str']. An error will be raised in 1.2.\n",
      "  FutureWarning,\n"
     ]
    },
    {
     "name": "stdout",
     "output_type": "stream",
     "text": [
      "17525.345719178084\n"
     ]
    },
    {
     "name": "stderr",
     "output_type": "stream",
     "text": [
      "/opt/conda/lib/python3.7/site-packages/sklearn/utils/validation.py:1692: FutureWarning: Feature names only support names that are all strings. Got feature names with dtypes: ['int', 'str']. An error will be raised in 1.2.\n",
      "  FutureWarning,\n"
     ]
    }
   ],
   "source": [
    "print(\"MAE from Approach 3 (One-Hot Encoding):\") \n",
    "print(score_dataset(OH_X_train, OH_X_valid, y_train, y_valid))"
   ]
  },
  {
   "cell_type": "markdown",
   "id": "fba42c44",
   "metadata": {
    "papermill": {
     "duration": 0.009916,
     "end_time": "2022-11-04T10:01:53.613097",
     "exception": false,
     "start_time": "2022-11-04T10:01:53.603181",
     "status": "completed"
    },
    "tags": []
   },
   "source": [
    "# Generate test predictions and submit your results\n",
    "\n",
    "After you complete Step 4, if you'd like to use what you've learned to submit your results to the leaderboard, you'll need to preprocess the test data before generating predictions.\n",
    "\n",
    "**This step is completely optional, and you do not need to submit results to the leaderboard to successfully complete the exercise.**\n",
    "\n",
    "Check out the previous exercise if you need help with remembering how to [join the competition](https://www.kaggle.com/c/home-data-for-ml-course) or save your results to CSV.  Once you have generated a file with your results, follow the instructions below:\n",
    "1. Begin by clicking on the **Save Version** button in the top right corner of the window.  This will generate a pop-up window.  \n",
    "2. Ensure that the **Save and Run All** option is selected, and then click on the **Save** button.\n",
    "3. This generates a window in the bottom left corner of the notebook.  After it has finished running, click on the number to the right of the **Save Version** button.  This pulls up a list of versions on the right of the screen.  Click on the ellipsis **(...)** to the right of the most recent version, and select **Open in Viewer**.  This brings you into view mode of the same page. You will need to scroll down to get back to these instructions.\n",
    "4. Click on the **Output** tab on the right of the screen.  Then, click on the file you would like to submit, and click on the **Submit** button to submit your results to the leaderboard.\n",
    "\n",
    "You have now successfully submitted to the competition!\n",
    "\n",
    "If you want to keep working to improve your performance, select the **Edit** button in the top right of the screen. Then you can change your code and repeat the process. There's a lot of room to improve, and you will climb up the leaderboard as you work.\n"
   ]
  },
  {
   "cell_type": "code",
   "execution_count": 24,
   "id": "c76fd1e1",
   "metadata": {
    "execution": {
     "iopub.execute_input": "2022-11-04T10:01:53.635877Z",
     "iopub.status.busy": "2022-11-04T10:01:53.635538Z",
     "iopub.status.idle": "2022-11-04T10:01:55.290091Z",
     "shell.execute_reply": "2022-11-04T10:01:55.288647Z"
    },
    "papermill": {
     "duration": 1.669094,
     "end_time": "2022-11-04T10:01:55.292275",
     "exception": false,
     "start_time": "2022-11-04T10:01:53.623181",
     "status": "completed"
    },
    "tags": []
   },
   "outputs": [
    {
     "name": "stderr",
     "output_type": "stream",
     "text": [
      "/opt/conda/lib/python3.7/site-packages/sklearn/utils/validation.py:1692: FutureWarning: Feature names only support names that are all strings. Got feature names with dtypes: ['int', 'str']. An error will be raised in 1.2.\n",
      "  FutureWarning,\n"
     ]
    },
    {
     "name": "stdout",
     "output_type": "stream",
     "text": [
      "17178.240787671235\n"
     ]
    },
    {
     "name": "stderr",
     "output_type": "stream",
     "text": [
      "/opt/conda/lib/python3.7/site-packages/sklearn/utils/validation.py:1692: FutureWarning: Feature names only support names that are all strings. Got feature names with dtypes: ['int', 'str']. An error will be raised in 1.2.\n",
      "  FutureWarning,\n"
     ]
    }
   ],
   "source": [
    "from sklearn.ensemble import RandomForestRegressor\n",
    "from sklearn.metrics import mean_absolute_error\n",
    "\n",
    "model = RandomForestRegressor(random_state = 1)\n",
    "model.fit(OH_X_train, y_train)\n",
    "prediction = model.predict(OH_X_valid)\n",
    "\n",
    "mse = mean_absolute_error(prediction, y_valid)\n",
    "print(mse)"
   ]
  },
  {
   "cell_type": "code",
   "execution_count": 25,
   "id": "3092d8ce",
   "metadata": {
    "execution": {
     "iopub.execute_input": "2022-11-04T10:01:55.314950Z",
     "iopub.status.busy": "2022-11-04T10:01:55.314620Z",
     "iopub.status.idle": "2022-11-04T10:01:55.325229Z",
     "shell.execute_reply": "2022-11-04T10:01:55.323786Z"
    },
    "papermill": {
     "duration": 0.024806,
     "end_time": "2022-11-04T10:01:55.327725",
     "exception": false,
     "start_time": "2022-11-04T10:01:55.302919",
     "status": "completed"
    },
    "tags": []
   },
   "outputs": [],
   "source": [
    "# Save test prediargminctions to file\n",
    "output = pd.DataFrame({'Id': OH_X_valid.index,\n",
    "                       'SalePrice': prediction})\n",
    "output.to_csv('submission.csv', index=False)"
   ]
  },
  {
   "cell_type": "markdown",
   "id": "93460ccd",
   "metadata": {
    "papermill": {
     "duration": 0.01125,
     "end_time": "2022-11-04T10:01:55.350117",
     "exception": false,
     "start_time": "2022-11-04T10:01:55.338867",
     "status": "completed"
    },
    "tags": []
   },
   "source": [
    "# Keep going\n",
    "\n",
    "With missing value handling and categorical encoding, your modeling process is getting complex. This complexity gets worse when you want to save your model to use in the future. The key to managing this complexity is something called **pipelines**. \n",
    "\n",
    "**[Learn to use pipelines](https://www.kaggle.com/alexisbcook/pipelines)** to preprocess datasets with categorical variables, missing values and any other messiness your data throws at you."
   ]
  },
  {
   "cell_type": "markdown",
   "id": "0ddf11ef",
   "metadata": {
    "papermill": {
     "duration": 0.010671,
     "end_time": "2022-11-04T10:01:55.371726",
     "exception": false,
     "start_time": "2022-11-04T10:01:55.361055",
     "status": "completed"
    },
    "tags": []
   },
   "source": [
    "---\n",
    "\n",
    "\n",
    "\n",
    "\n",
    "*Have questions or comments? Visit the [course discussion forum](https://www.kaggle.com/learn/intermediate-machine-learning/discussion) to chat with other learners.*"
   ]
  }
 ],
 "metadata": {
  "kernelspec": {
   "display_name": "Python 3",
   "language": "python",
   "name": "python3"
  },
  "language_info": {
   "codemirror_mode": {
    "name": "ipython",
    "version": 3
   },
   "file_extension": ".py",
   "mimetype": "text/x-python",
   "name": "python",
   "nbconvert_exporter": "python",
   "pygments_lexer": "ipython3",
   "version": "3.7.12"
  },
  "papermill": {
   "default_parameters": {},
   "duration": 16.719594,
   "end_time": "2022-11-04T10:01:56.104869",
   "environment_variables": {},
   "exception": null,
   "input_path": "__notebook__.ipynb",
   "output_path": "__notebook__.ipynb",
   "parameters": {},
   "start_time": "2022-11-04T10:01:39.385275",
   "version": "2.3.4"
  }
 },
 "nbformat": 4,
 "nbformat_minor": 5
}
