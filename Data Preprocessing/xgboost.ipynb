{
 "cells": [
  {
   "cell_type": "markdown",
   "id": "6b802c0e",
   "metadata": {
    "papermill": {
     "duration": 0.008592,
     "end_time": "2022-11-09T11:54:49.171080",
     "exception": false,
     "start_time": "2022-11-09T11:54:49.162488",
     "status": "completed"
    },
    "tags": []
   },
   "source": [
    "**This notebook is an exercise in the [Intermediate Machine Learning](https://www.kaggle.com/learn/intermediate-machine-learning) course.  You can reference the tutorial at [this link](https://www.kaggle.com/alexisbcook/xgboost).**\n",
    "\n",
    "---\n"
   ]
  },
  {
   "cell_type": "markdown",
   "id": "f9ad2e17",
   "metadata": {
    "papermill": {
     "duration": 0.00463,
     "end_time": "2022-11-09T11:54:49.182345",
     "exception": false,
     "start_time": "2022-11-09T11:54:49.177715",
     "status": "completed"
    },
    "tags": []
   },
   "source": [
    "In this exercise, you will use your new knowledge to train a model with **gradient boosting**.\n",
    "\n",
    "# Setup\n",
    "\n",
    "The questions below will give you feedback on your work. Run the following cell to set up the feedback system."
   ]
  },
  {
   "cell_type": "code",
   "execution_count": 1,
   "id": "a091f871",
   "metadata": {
    "execution": {
     "iopub.execute_input": "2022-11-09T11:54:49.195354Z",
     "iopub.status.busy": "2022-11-09T11:54:49.194799Z",
     "iopub.status.idle": "2022-11-09T11:54:52.331956Z",
     "shell.execute_reply": "2022-11-09T11:54:52.330162Z"
    },
    "papermill": {
     "duration": 3.147306,
     "end_time": "2022-11-09T11:54:52.334833",
     "exception": false,
     "start_time": "2022-11-09T11:54:49.187527",
     "status": "completed"
    },
    "tags": []
   },
   "outputs": [
    {
     "name": "stdout",
     "output_type": "stream",
     "text": [
      "Setup Complete\n"
     ]
    }
   ],
   "source": [
    "# Set up code checking\n",
    "import os\n",
    "if not os.path.exists(\"../input/train.csv\"):\n",
    "    os.symlink(\"../input/home-data-for-ml-course/train.csv\", \"../input/train.csv\")  \n",
    "    os.symlink(\"../input/home-data-for-ml-course/test.csv\", \"../input/test.csv\") \n",
    "from learntools.core import binder\n",
    "binder.bind(globals())\n",
    "from learntools.ml_intermediate.ex6 import *\n",
    "print(\"Setup Complete\")"
   ]
  },
  {
   "cell_type": "markdown",
   "id": "35d4678b",
   "metadata": {
    "papermill": {
     "duration": 0.004574,
     "end_time": "2022-11-09T11:54:52.344280",
     "exception": false,
     "start_time": "2022-11-09T11:54:52.339706",
     "status": "completed"
    },
    "tags": []
   },
   "source": [
    "You will work with the [Housing Prices Competition for Kaggle Learn Users](https://www.kaggle.com/c/home-data-for-ml-course) dataset from the previous exercise. \n",
    "\n",
    "![Ames Housing dataset image](https://i.imgur.com/lTJVG4e.png)\n",
    "\n",
    "Run the next code cell without changes to load the training and validation sets in `X_train`, `X_valid`, `y_train`, and `y_valid`.  The test set is loaded in `X_test`."
   ]
  },
  {
   "cell_type": "code",
   "execution_count": 2,
   "id": "c5e3f33e",
   "metadata": {
    "execution": {
     "iopub.execute_input": "2022-11-09T11:54:52.357970Z",
     "iopub.status.busy": "2022-11-09T11:54:52.356707Z",
     "iopub.status.idle": "2022-11-09T11:54:52.540958Z",
     "shell.execute_reply": "2022-11-09T11:54:52.539971Z"
    },
    "papermill": {
     "duration": 0.195806,
     "end_time": "2022-11-09T11:54:52.544810",
     "exception": false,
     "start_time": "2022-11-09T11:54:52.349004",
     "status": "completed"
    },
    "tags": []
   },
   "outputs": [],
   "source": [
    "import pandas as pd\n",
    "from sklearn.model_selection import train_test_split\n",
    "\n",
    "# Read the data\n",
    "X = pd.read_csv('../input/train.csv', index_col='Id')\n",
    "X_test_full = pd.read_csv('../input/test.csv', index_col='Id')\n",
    "\n",
    "# Remove rows with missing target, separate target from predictors\n",
    "X.dropna(axis=0, subset=['SalePrice'], inplace=True)\n",
    "y = X.SalePrice              \n",
    "X.drop(['SalePrice'], axis=1, inplace=True)\n",
    "\n",
    "# Break off validation set from training data\n",
    "X_train_full, X_valid_full, y_train, y_valid = train_test_split(X, y, train_size=0.8, test_size=0.2,\n",
    "                                                                random_state=0)\n",
    "\n",
    "# \"Cardinality\" means the number of unique values in a column\n",
    "# Select categorical columns with relatively low cardinality (convenient but arbitrary)\n",
    "low_cardinality_cols = [cname for cname in X_train_full.columns if X_train_full[cname].nunique() < 10 and \n",
    "                        X_train_full[cname].dtype == \"object\"]\n",
    "\n",
    "# Select numeric columns\n",
    "numeric_cols = [cname for cname in X_train_full.columns if X_train_full[cname].dtype in ['int64', 'float64']]\n",
    "\n",
    "# Keep selected columns only\n",
    "my_cols = low_cardinality_cols + numeric_cols\n",
    "X_train = X_train_full[my_cols].copy()\n",
    "X_valid = X_valid_full[my_cols].copy()\n",
    "X_test = X_test_full[my_cols].copy()\n",
    "\n",
    "# One-hot encode the data (to shorten the code, we use pandas)\n",
    "X_train = pd.get_dummies(X_train)\n",
    "X_valid = pd.get_dummies(X_valid)\n",
    "X_test = pd.get_dummies(X_test)\n",
    "X_train, X_valid = X_train.align(X_valid, join='left', axis=1)\n",
    "X_train, X_test = X_train.align(X_test, join='left', axis=1)"
   ]
  },
  {
   "cell_type": "markdown",
   "id": "26561e6c",
   "metadata": {
    "papermill": {
     "duration": 0.005267,
     "end_time": "2022-11-09T11:54:52.556091",
     "exception": false,
     "start_time": "2022-11-09T11:54:52.550824",
     "status": "completed"
    },
    "tags": []
   },
   "source": [
    "# Step 1: Build model\n",
    "\n",
    "### Part A\n",
    "\n",
    "In this step, you'll build and train your first model with gradient boosting.\n",
    "\n",
    "- Begin by setting `my_model_1` to an XGBoost model.  Use the [XGBRegressor](https://xgboost.readthedocs.io/en/latest/python/python_api.html#xgboost.XGBRegressor) class, and set the random seed to 0 (`random_state=0`).  **Leave all other parameters as default.**\n",
    "- Then, fit the model to the training data in `X_train` and `y_train`."
   ]
  },
  {
   "cell_type": "code",
   "execution_count": 3,
   "id": "ad456420",
   "metadata": {
    "execution": {
     "iopub.execute_input": "2022-11-09T11:54:52.570443Z",
     "iopub.status.busy": "2022-11-09T11:54:52.569919Z",
     "iopub.status.idle": "2022-11-09T11:54:53.444911Z",
     "shell.execute_reply": "2022-11-09T11:54:53.443468Z"
    },
    "papermill": {
     "duration": 0.885168,
     "end_time": "2022-11-09T11:54:53.447191",
     "exception": false,
     "start_time": "2022-11-09T11:54:52.562023",
     "status": "completed"
    },
    "tags": []
   },
   "outputs": [
    {
     "data": {
      "application/javascript": [
       "parent.postMessage({\"jupyterEvent\": \"custom.exercise_interaction\", \"data\": {\"outcomeType\": 1, \"valueTowardsCompletion\": 0.5, \"interactionType\": 1, \"questionType\": 2, \"questionId\": \"1.1_Model1A\", \"learnToolsVersion\": \"0.3.4\", \"failureMessage\": \"\", \"exceptionClass\": \"\", \"trace\": \"\"}}, \"*\")"
      ],
      "text/plain": [
       "<IPython.core.display.Javascript object>"
      ]
     },
     "metadata": {},
     "output_type": "display_data"
    },
    {
     "data": {
      "text/markdown": [
       "<span style=\"color:#33cc33\">Correct</span>"
      ],
      "text/plain": [
       "Correct"
      ]
     },
     "metadata": {},
     "output_type": "display_data"
    }
   ],
   "source": [
    "from xgboost import XGBRegressor\n",
    "\n",
    "# Define the model\n",
    "my_model_1 = XGBRegressor(random_state = 0)\n",
    "\n",
    "# Fit the model\n",
    "my_model_1.fit(X_train, y_train)\n",
    "\n",
    "# Check your answer\n",
    "step_1.a.check()"
   ]
  },
  {
   "cell_type": "code",
   "execution_count": 4,
   "id": "ef111969",
   "metadata": {
    "execution": {
     "iopub.execute_input": "2022-11-09T11:54:53.459026Z",
     "iopub.status.busy": "2022-11-09T11:54:53.458532Z",
     "iopub.status.idle": "2022-11-09T11:54:53.468419Z",
     "shell.execute_reply": "2022-11-09T11:54:53.467295Z"
    },
    "papermill": {
     "duration": 0.018069,
     "end_time": "2022-11-09T11:54:53.470402",
     "exception": false,
     "start_time": "2022-11-09T11:54:53.452333",
     "status": "completed"
    },
    "tags": []
   },
   "outputs": [
    {
     "data": {
      "application/javascript": [
       "parent.postMessage({\"jupyterEvent\": \"custom.exercise_interaction\", \"data\": {\"interactionType\": 2, \"questionType\": 2, \"questionId\": \"1.1_Model1A\", \"learnToolsVersion\": \"0.3.4\", \"valueTowardsCompletion\": 0.0, \"failureMessage\": \"\", \"exceptionClass\": \"\", \"trace\": \"\", \"outcomeType\": 4}}, \"*\")"
      ],
      "text/plain": [
       "<IPython.core.display.Javascript object>"
      ]
     },
     "metadata": {},
     "output_type": "display_data"
    },
    {
     "data": {
      "text/markdown": [
       "<span style=\"color:#3366cc\">Hint:</span> Begin by defining the model with `my_model_1 = XGBRegressor(random_state=0)`. Then, you can fit the model with the `fit()` method."
      ],
      "text/plain": [
       "Hint: Begin by defining the model with `my_model_1 = XGBRegressor(random_state=0)`. Then, you can fit the model with the `fit()` method."
      ]
     },
     "metadata": {},
     "output_type": "display_data"
    }
   ],
   "source": [
    "# Lines below will give you a hint or solution code\n",
    "step_1.a.hint()\n",
    "#step_1.a.solution()"
   ]
  },
  {
   "cell_type": "markdown",
   "id": "ac71680f",
   "metadata": {
    "papermill": {
     "duration": 0.006139,
     "end_time": "2022-11-09T11:54:53.481446",
     "exception": false,
     "start_time": "2022-11-09T11:54:53.475307",
     "status": "completed"
    },
    "tags": []
   },
   "source": [
    "### Part B\n",
    "\n",
    "Set `predictions_1` to the model's predictions for the validation data.  Recall that the validation features are stored in `X_valid`."
   ]
  },
  {
   "cell_type": "code",
   "execution_count": 5,
   "id": "c8944ad4",
   "metadata": {
    "execution": {
     "iopub.execute_input": "2022-11-09T11:54:53.493303Z",
     "iopub.status.busy": "2022-11-09T11:54:53.492817Z",
     "iopub.status.idle": "2022-11-09T11:54:53.516570Z",
     "shell.execute_reply": "2022-11-09T11:54:53.515645Z"
    },
    "papermill": {
     "duration": 0.032725,
     "end_time": "2022-11-09T11:54:53.519003",
     "exception": false,
     "start_time": "2022-11-09T11:54:53.486278",
     "status": "completed"
    },
    "tags": []
   },
   "outputs": [
    {
     "data": {
      "application/javascript": [
       "parent.postMessage({\"jupyterEvent\": \"custom.exercise_interaction\", \"data\": {\"outcomeType\": 1, \"valueTowardsCompletion\": 0.5, \"interactionType\": 1, \"questionType\": 2, \"questionId\": \"1.2_Model1B\", \"learnToolsVersion\": \"0.3.4\", \"failureMessage\": \"\", \"exceptionClass\": \"\", \"trace\": \"\"}}, \"*\")"
      ],
      "text/plain": [
       "<IPython.core.display.Javascript object>"
      ]
     },
     "metadata": {},
     "output_type": "display_data"
    },
    {
     "data": {
      "text/markdown": [
       "<span style=\"color:#33cc33\">Correct</span>"
      ],
      "text/plain": [
       "Correct"
      ]
     },
     "metadata": {},
     "output_type": "display_data"
    }
   ],
   "source": [
    "from sklearn.metrics import mean_absolute_error\n",
    "\n",
    "# Get predictions\n",
    "predictions_1 = my_model_1.predict(X_valid)\n",
    "\n",
    "# Check your answer\n",
    "step_1.b.check()"
   ]
  },
  {
   "cell_type": "code",
   "execution_count": 6,
   "id": "31d5e26b",
   "metadata": {
    "execution": {
     "iopub.execute_input": "2022-11-09T11:54:53.534032Z",
     "iopub.status.busy": "2022-11-09T11:54:53.533484Z",
     "iopub.status.idle": "2022-11-09T11:54:53.540058Z",
     "shell.execute_reply": "2022-11-09T11:54:53.537751Z"
    },
    "papermill": {
     "duration": 0.017715,
     "end_time": "2022-11-09T11:54:53.542938",
     "exception": false,
     "start_time": "2022-11-09T11:54:53.525223",
     "status": "completed"
    },
    "tags": []
   },
   "outputs": [],
   "source": [
    "# Lines below will give you a hint or solution code\n",
    "#step_1.b.hint()\n",
    "#step_1.b.solution()"
   ]
  },
  {
   "cell_type": "markdown",
   "id": "b7a20bee",
   "metadata": {
    "papermill": {
     "duration": 0.0058,
     "end_time": "2022-11-09T11:54:53.555589",
     "exception": false,
     "start_time": "2022-11-09T11:54:53.549789",
     "status": "completed"
    },
    "tags": []
   },
   "source": [
    "### Part C\n",
    "\n",
    "Finally, use the `mean_absolute_error()` function to calculate the mean absolute error (MAE) corresponding to the predictions for the validation set.  Recall that the labels for the validation data are stored in `y_valid`."
   ]
  },
  {
   "cell_type": "code",
   "execution_count": 7,
   "id": "4b968a5e",
   "metadata": {
    "execution": {
     "iopub.execute_input": "2022-11-09T11:54:53.568907Z",
     "iopub.status.busy": "2022-11-09T11:54:53.568435Z",
     "iopub.status.idle": "2022-11-09T11:54:53.580085Z",
     "shell.execute_reply": "2022-11-09T11:54:53.578339Z"
    },
    "papermill": {
     "duration": 0.02108,
     "end_time": "2022-11-09T11:54:53.582201",
     "exception": false,
     "start_time": "2022-11-09T11:54:53.561121",
     "status": "completed"
    },
    "tags": []
   },
   "outputs": [
    {
     "name": "stdout",
     "output_type": "stream",
     "text": [
      "Mean Absolute Error: 17662.736729452055\n"
     ]
    },
    {
     "data": {
      "application/javascript": [
       "parent.postMessage({\"jupyterEvent\": \"custom.exercise_interaction\", \"data\": {\"outcomeType\": 1, \"valueTowardsCompletion\": 0.5, \"interactionType\": 1, \"questionType\": 2, \"questionId\": \"1.3_Model1C\", \"learnToolsVersion\": \"0.3.4\", \"failureMessage\": \"\", \"exceptionClass\": \"\", \"trace\": \"\"}}, \"*\")"
      ],
      "text/plain": [
       "<IPython.core.display.Javascript object>"
      ]
     },
     "metadata": {},
     "output_type": "display_data"
    },
    {
     "data": {
      "text/markdown": [
       "<span style=\"color:#33cc33\">Correct</span>"
      ],
      "text/plain": [
       "Correct"
      ]
     },
     "metadata": {},
     "output_type": "display_data"
    }
   ],
   "source": [
    "# Calculate MAE\n",
    "mae_1 = mean_absolute_error(predictions_1, y_valid)\n",
    "\n",
    "# Uncomment to print MAE\n",
    "print(\"Mean Absolute Error:\" , mae_1)\n",
    "\n",
    "# Check your answer\n",
    "step_1.c.check()"
   ]
  },
  {
   "cell_type": "code",
   "execution_count": 8,
   "id": "68766f97",
   "metadata": {
    "execution": {
     "iopub.execute_input": "2022-11-09T11:54:53.598736Z",
     "iopub.status.busy": "2022-11-09T11:54:53.597936Z",
     "iopub.status.idle": "2022-11-09T11:54:53.605463Z",
     "shell.execute_reply": "2022-11-09T11:54:53.603000Z"
    },
    "papermill": {
     "duration": 0.020935,
     "end_time": "2022-11-09T11:54:53.609991",
     "exception": false,
     "start_time": "2022-11-09T11:54:53.589056",
     "status": "completed"
    },
    "tags": []
   },
   "outputs": [],
   "source": [
    "# Lines below will give you a hint or solution code\n",
    "#step_1.c.hint()\n",
    "#step_1.c.solution()"
   ]
  },
  {
   "cell_type": "markdown",
   "id": "ca42622d",
   "metadata": {
    "papermill": {
     "duration": 0.007243,
     "end_time": "2022-11-09T11:54:53.626125",
     "exception": false,
     "start_time": "2022-11-09T11:54:53.618882",
     "status": "completed"
    },
    "tags": []
   },
   "source": [
    "# Step 2: Improve the model\n",
    "\n",
    "Now that you've trained a default model as baseline, it's time to tinker with the parameters, to see if you can get better performance!\n",
    "- Begin by setting `my_model_2` to an XGBoost model, using the [XGBRegressor](https://xgboost.readthedocs.io/en/latest/python/python_api.html#xgboost.XGBRegressor) class.  Use what you learned in the previous tutorial to figure out how to change the default parameters (like `n_estimators` and `learning_rate`) to get better results.\n",
    "- Then, fit the model to the training data in `X_train` and `y_train`.\n",
    "- Set `predictions_2` to the model's predictions for the validation data.  Recall that the validation features are stored in `X_valid`.\n",
    "- Finally, use the `mean_absolute_error()` function to calculate the mean absolute error (MAE) corresponding to the predictions on the validation set.  Recall that the labels for the validation data are stored in `y_valid`.\n",
    "\n",
    "In order for this step to be marked correct, your model in `my_model_2` must attain lower MAE than the model in `my_model_1`. "
   ]
  },
  {
   "cell_type": "code",
   "execution_count": 9,
   "id": "e3b34897",
   "metadata": {
    "execution": {
     "iopub.execute_input": "2022-11-09T11:54:53.641799Z",
     "iopub.status.busy": "2022-11-09T11:54:53.641058Z",
     "iopub.status.idle": "2022-11-09T11:54:55.051157Z",
     "shell.execute_reply": "2022-11-09T11:54:55.050272Z"
    },
    "papermill": {
     "duration": 1.420737,
     "end_time": "2022-11-09T11:54:55.053214",
     "exception": false,
     "start_time": "2022-11-09T11:54:53.632477",
     "status": "completed"
    },
    "tags": []
   },
   "outputs": [
    {
     "name": "stdout",
     "output_type": "stream",
     "text": [
      "[11:54:53] WARNING: ../src/learner.cc:627: \n",
      "Parameters: { \"leanring_rate\" } might not be used.\n",
      "\n",
      "  This could be a false alarm, with some parameters getting used by language bindings but\n",
      "  then being mistakenly passed down to XGBoost core, or some parameter actually being used\n",
      "  but getting flagged wrongly here. Please open an issue if you find any such cases.\n",
      "\n",
      "\n"
     ]
    },
    {
     "data": {
      "application/javascript": [
       "parent.postMessage({\"jupyterEvent\": \"custom.exercise_interaction\", \"data\": {\"outcomeType\": 1, \"valueTowardsCompletion\": 0.5, \"interactionType\": 1, \"questionType\": 2, \"questionId\": \"2_Model2\", \"learnToolsVersion\": \"0.3.4\", \"failureMessage\": \"\", \"exceptionClass\": \"\", \"trace\": \"\"}}, \"*\")"
      ],
      "text/plain": [
       "<IPython.core.display.Javascript object>"
      ]
     },
     "metadata": {},
     "output_type": "display_data"
    },
    {
     "data": {
      "text/markdown": [
       "<span style=\"color:#33cc33\">Correct</span>"
      ],
      "text/plain": [
       "Correct"
      ]
     },
     "metadata": {},
     "output_type": "display_data"
    }
   ],
   "source": [
    "# Define the model\n",
    "my_model_2 = XGBRegressor(n_estimators = 150, leanring_rate = 0.05, random_state = 0)\n",
    "\n",
    "# Fit the model\n",
    "my_model_2.fit(X_train, y_train)\n",
    "\n",
    "# Get predictions\n",
    "predictions_2 = my_model_2.predict(X_valid)\n",
    "\n",
    "# Calculate MAE\n",
    "mae_2 = mean_absolute_error(predictions_2, y_valid)\n",
    "\n",
    "# Uncomment to print MAE\n",
    "# print(\"Mean Absolute Error:\" , mae_2)\n",
    "\n",
    "# Check your answer\n",
    "step_2.check()"
   ]
  },
  {
   "cell_type": "code",
   "execution_count": 10,
   "id": "f9e8f1ce",
   "metadata": {
    "execution": {
     "iopub.execute_input": "2022-11-09T11:54:55.067377Z",
     "iopub.status.busy": "2022-11-09T11:54:55.066953Z",
     "iopub.status.idle": "2022-11-09T11:54:55.071485Z",
     "shell.execute_reply": "2022-11-09T11:54:55.070164Z"
    },
    "papermill": {
     "duration": 0.013747,
     "end_time": "2022-11-09T11:54:55.073473",
     "exception": false,
     "start_time": "2022-11-09T11:54:55.059726",
     "status": "completed"
    },
    "tags": []
   },
   "outputs": [],
   "source": [
    "# Lines below will give you a hint or solution code\n",
    "#step_2.hint()\n",
    "#step_2.solution()"
   ]
  },
  {
   "cell_type": "markdown",
   "id": "c57e1ec1",
   "metadata": {
    "papermill": {
     "duration": 0.005336,
     "end_time": "2022-11-09T11:54:55.084481",
     "exception": false,
     "start_time": "2022-11-09T11:54:55.079145",
     "status": "completed"
    },
    "tags": []
   },
   "source": [
    "# Step 3: Break the model\n",
    "\n",
    "In this step, you will create a model that performs worse than the original model in Step 1.  This will help you to develop your intuition for how to set parameters.  You might even find that you accidentally get better performance, which is ultimately a nice problem to have and a valuable learning experience!\n",
    "- Begin by setting `my_model_3` to an XGBoost model, using the [XGBRegressor](https://xgboost.readthedocs.io/en/latest/python/python_api.html#xgboost.XGBRegressor) class.  Use what you learned in the previous tutorial to figure out how to change the default parameters (like `n_estimators` and `learning_rate`) to design a model to get high MAE.\n",
    "- Then, fit the model to the training data in `X_train` and `y_train`.\n",
    "- Set `predictions_3` to the model's predictions for the validation data.  Recall that the validation features are stored in `X_valid`.\n",
    "- Finally, use the `mean_absolute_error()` function to calculate the mean absolute error (MAE) corresponding to the predictions on the validation set.  Recall that the labels for the validation data are stored in `y_valid`.\n",
    "\n",
    "In order for this step to be marked correct, your model in `my_model_3` must attain higher MAE than the model in `my_model_1`. "
   ]
  },
  {
   "cell_type": "code",
   "execution_count": 11,
   "id": "7c85ea1b",
   "metadata": {
    "execution": {
     "iopub.execute_input": "2022-11-09T11:54:55.097923Z",
     "iopub.status.busy": "2022-11-09T11:54:55.097387Z",
     "iopub.status.idle": "2022-11-09T11:54:55.585203Z",
     "shell.execute_reply": "2022-11-09T11:54:55.584309Z"
    },
    "papermill": {
     "duration": 0.498387,
     "end_time": "2022-11-09T11:54:55.588532",
     "exception": false,
     "start_time": "2022-11-09T11:54:55.090145",
     "status": "completed"
    },
    "tags": []
   },
   "outputs": [
    {
     "data": {
      "application/javascript": [
       "parent.postMessage({\"jupyterEvent\": \"custom.exercise_interaction\", \"data\": {\"outcomeType\": 1, \"valueTowardsCompletion\": 0.5, \"interactionType\": 1, \"questionType\": 2, \"questionId\": \"3_Model3\", \"learnToolsVersion\": \"0.3.4\", \"failureMessage\": \"\", \"exceptionClass\": \"\", \"trace\": \"\"}}, \"*\")"
      ],
      "text/plain": [
       "<IPython.core.display.Javascript object>"
      ]
     },
     "metadata": {},
     "output_type": "display_data"
    },
    {
     "data": {
      "text/markdown": [
       "<span style=\"color:#33cc33\">Correct</span>"
      ],
      "text/plain": [
       "Correct"
      ]
     },
     "metadata": {},
     "output_type": "display_data"
    }
   ],
   "source": [
    "# Define the model\n",
    "my_model_3 = XGBRegressor(n_estimators = 50, learning_rate = 0.05, random_state = 0)\n",
    "\n",
    "# Fit the model\n",
    "my_model_3.fit(X_train, y_train)\n",
    "\n",
    "# Get predictions\n",
    "predictions_3 = my_model_3.predict(X_valid)\n",
    "\n",
    "# Calculate MAE\n",
    "mae_3 = mean_absolute_error(predictions_3, y_valid)\n",
    "\n",
    "# Uncomment to print MAE\n",
    "# print(\"Mean Absolute Error:\" , mae_3)\n",
    "\n",
    "# Check your answer\n",
    "step_3.check()"
   ]
  },
  {
   "cell_type": "code",
   "execution_count": 12,
   "id": "0e05118c",
   "metadata": {
    "execution": {
     "iopub.execute_input": "2022-11-09T11:54:55.604292Z",
     "iopub.status.busy": "2022-11-09T11:54:55.603885Z",
     "iopub.status.idle": "2022-11-09T11:54:55.608265Z",
     "shell.execute_reply": "2022-11-09T11:54:55.607278Z"
    },
    "papermill": {
     "duration": 0.015552,
     "end_time": "2022-11-09T11:54:55.611286",
     "exception": false,
     "start_time": "2022-11-09T11:54:55.595734",
     "status": "completed"
    },
    "tags": []
   },
   "outputs": [],
   "source": [
    "# Lines below will give you a hint or solution code\n",
    "#step_3.hint()\n",
    "#step_3.solution()"
   ]
  },
  {
   "cell_type": "markdown",
   "id": "acfbda1c",
   "metadata": {
    "papermill": {
     "duration": 0.006668,
     "end_time": "2022-11-09T11:54:55.625896",
     "exception": false,
     "start_time": "2022-11-09T11:54:55.619228",
     "status": "completed"
    },
    "tags": []
   },
   "source": [
    "# Keep going\n",
    "\n",
    "Continue to learn about **[data leakage](https://www.kaggle.com/alexisbcook/data-leakage)**.  This is an important issue for a data scientist to understand, and it has the potential to ruin your models in subtle and dangerous ways!"
   ]
  },
  {
   "cell_type": "markdown",
   "id": "920c5a10",
   "metadata": {
    "papermill": {
     "duration": 0.005919,
     "end_time": "2022-11-09T11:54:55.638076",
     "exception": false,
     "start_time": "2022-11-09T11:54:55.632157",
     "status": "completed"
    },
    "tags": []
   },
   "source": [
    "---\n",
    "\n",
    "\n",
    "\n",
    "\n",
    "*Have questions or comments? Visit the [course discussion forum](https://www.kaggle.com/learn/intermediate-machine-learning/discussion) to chat with other learners.*"
   ]
  }
 ],
 "metadata": {
  "kernelspec": {
   "display_name": "Python 3",
   "language": "python",
   "name": "python3"
  },
  "language_info": {
   "codemirror_mode": {
    "name": "ipython",
    "version": 3
   },
   "file_extension": ".py",
   "mimetype": "text/x-python",
   "name": "python",
   "nbconvert_exporter": "python",
   "pygments_lexer": "ipython3",
   "version": "3.7.12"
  },
  "papermill": {
   "default_parameters": {},
   "duration": 16.971064,
   "end_time": "2022-11-09T11:54:56.872828",
   "environment_variables": {},
   "exception": null,
   "input_path": "__notebook__.ipynb",
   "output_path": "__notebook__.ipynb",
   "parameters": {},
   "start_time": "2022-11-09T11:54:39.901764",
   "version": "2.3.4"
  }
 },
 "nbformat": 4,
 "nbformat_minor": 5
}
