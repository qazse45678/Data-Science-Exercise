{
 "cells": [
  {
   "cell_type": "markdown",
   "id": "4b465bb3",
   "metadata": {
    "papermill": {
     "duration": 0.01082,
     "end_time": "2022-11-04T10:02:40.501087",
     "exception": false,
     "start_time": "2022-11-04T10:02:40.490267",
     "status": "completed"
    },
    "tags": []
   },
   "source": [
    "**This notebook is an exercise in the [Intermediate Machine Learning](https://www.kaggle.com/learn/intermediate-machine-learning) course.  You can reference the tutorial at [this link](https://www.kaggle.com/alexisbcook/missing-values).**\n",
    "\n",
    "---\n"
   ]
  },
  {
   "cell_type": "markdown",
   "id": "1b972ca5",
   "metadata": {
    "papermill": {
     "duration": 0.008587,
     "end_time": "2022-11-04T10:02:40.518976",
     "exception": false,
     "start_time": "2022-11-04T10:02:40.510389",
     "status": "completed"
    },
    "tags": []
   },
   "source": [
    "Now it's your turn to test your new knowledge of **missing values** handling. You'll probably find it makes a big difference.\n",
    "\n",
    "# Setup\n",
    "\n",
    "The questions will give you feedback on your work. Run the following cell to set up the feedback system."
   ]
  },
  {
   "cell_type": "code",
   "execution_count": 1,
   "id": "c102c9c7",
   "metadata": {
    "execution": {
     "iopub.execute_input": "2022-11-04T10:02:40.538920Z",
     "iopub.status.busy": "2022-11-04T10:02:40.538194Z",
     "iopub.status.idle": "2022-11-04T10:02:40.598427Z",
     "shell.execute_reply": "2022-11-04T10:02:40.597161Z"
    },
    "papermill": {
     "duration": 0.074713,
     "end_time": "2022-11-04T10:02:40.602411",
     "exception": false,
     "start_time": "2022-11-04T10:02:40.527698",
     "status": "completed"
    },
    "tags": []
   },
   "outputs": [
    {
     "name": "stdout",
     "output_type": "stream",
     "text": [
      "Setup Complete\n"
     ]
    }
   ],
   "source": [
    "# Set up code checking\n",
    "import os\n",
    "if not os.path.exists(\"../input/train.csv\"):\n",
    "    os.symlink(\"../input/home-data-for-ml-course/train.csv\", \"../input/train.csv\")  \n",
    "    os.symlink(\"../input/home-data-for-ml-course/test.csv\", \"../input/test.csv\") \n",
    "from learntools.core import binder\n",
    "binder.bind(globals())\n",
    "from learntools.ml_intermediate.ex2 import *\n",
    "print(\"Setup Complete\")"
   ]
  },
  {
   "cell_type": "markdown",
   "id": "a55f4e39",
   "metadata": {
    "papermill": {
     "duration": 0.008637,
     "end_time": "2022-11-04T10:02:40.620976",
     "exception": false,
     "start_time": "2022-11-04T10:02:40.612339",
     "status": "completed"
    },
    "tags": []
   },
   "source": [
    "In this exercise, you will work with data from the [Housing Prices Competition for Kaggle Learn Users](https://www.kaggle.com/c/home-data-for-ml-course). \n",
    "\n",
    "![Ames Housing dataset image](https://i.imgur.com/lTJVG4e.png)\n",
    "\n",
    "Run the next code cell without changes to load the training and validation sets in `X_train`, `X_valid`, `y_train`, and `y_valid`.  The test set is loaded in `X_test`."
   ]
  },
  {
   "cell_type": "code",
   "execution_count": 2,
   "id": "ab1d657c",
   "metadata": {
    "execution": {
     "iopub.execute_input": "2022-11-04T10:02:40.642519Z",
     "iopub.status.busy": "2022-11-04T10:02:40.642131Z",
     "iopub.status.idle": "2022-11-04T10:02:41.936978Z",
     "shell.execute_reply": "2022-11-04T10:02:41.935424Z"
    },
    "papermill": {
     "duration": 1.30816,
     "end_time": "2022-11-04T10:02:41.940047",
     "exception": false,
     "start_time": "2022-11-04T10:02:40.631887",
     "status": "completed"
    },
    "tags": []
   },
   "outputs": [],
   "source": [
    "import pandas as pd\n",
    "from sklearn.model_selection import train_test_split\n",
    "\n",
    "# Read the data\n",
    "X_full = pd.read_csv('../input/train.csv', index_col='Id')\n",
    "X_test_full = pd.read_csv('../input/test.csv', index_col='Id')\n",
    "\n",
    "# Remove rows with missing target, separate target from predictors\n",
    "X_full.dropna(axis=0, subset=['SalePrice'], inplace=True)\n",
    "y = X_full.SalePrice\n",
    "X_full.drop(['SalePrice'], axis=1, inplace=True)\n",
    "\n",
    "# To keep things simple, we'll use only numerical predictors\n",
    "X = X_full.select_dtypes(exclude=['object'])\n",
    "X_test = X_test_full.select_dtypes(exclude=['object'])\n",
    "\n",
    "# Break off validation set from training data\n",
    "X_train, X_valid, y_train, y_valid = train_test_split(X, y, train_size=0.8, test_size=0.2,\n",
    "                                                      random_state=0)\n"
   ]
  },
  {
   "cell_type": "markdown",
   "id": "881e5436",
   "metadata": {
    "papermill": {
     "duration": 0.009076,
     "end_time": "2022-11-04T10:02:41.961141",
     "exception": false,
     "start_time": "2022-11-04T10:02:41.952065",
     "status": "completed"
    },
    "tags": []
   },
   "source": [
    "Use the next code cell to print the first five rows of the data."
   ]
  },
  {
   "cell_type": "code",
   "execution_count": 3,
   "id": "99740543",
   "metadata": {
    "execution": {
     "iopub.execute_input": "2022-11-04T10:02:41.983289Z",
     "iopub.status.busy": "2022-11-04T10:02:41.982380Z",
     "iopub.status.idle": "2022-11-04T10:02:42.017149Z",
     "shell.execute_reply": "2022-11-04T10:02:42.015705Z"
    },
    "papermill": {
     "duration": 0.04937,
     "end_time": "2022-11-04T10:02:42.019734",
     "exception": false,
     "start_time": "2022-11-04T10:02:41.970364",
     "status": "completed"
    },
    "tags": []
   },
   "outputs": [
    {
     "data": {
      "text/html": [
       "<div>\n",
       "<style scoped>\n",
       "    .dataframe tbody tr th:only-of-type {\n",
       "        vertical-align: middle;\n",
       "    }\n",
       "\n",
       "    .dataframe tbody tr th {\n",
       "        vertical-align: top;\n",
       "    }\n",
       "\n",
       "    .dataframe thead th {\n",
       "        text-align: right;\n",
       "    }\n",
       "</style>\n",
       "<table border=\"1\" class=\"dataframe\">\n",
       "  <thead>\n",
       "    <tr style=\"text-align: right;\">\n",
       "      <th></th>\n",
       "      <th>MSSubClass</th>\n",
       "      <th>LotFrontage</th>\n",
       "      <th>LotArea</th>\n",
       "      <th>OverallQual</th>\n",
       "      <th>OverallCond</th>\n",
       "      <th>YearBuilt</th>\n",
       "      <th>YearRemodAdd</th>\n",
       "      <th>MasVnrArea</th>\n",
       "      <th>BsmtFinSF1</th>\n",
       "      <th>BsmtFinSF2</th>\n",
       "      <th>...</th>\n",
       "      <th>GarageArea</th>\n",
       "      <th>WoodDeckSF</th>\n",
       "      <th>OpenPorchSF</th>\n",
       "      <th>EnclosedPorch</th>\n",
       "      <th>3SsnPorch</th>\n",
       "      <th>ScreenPorch</th>\n",
       "      <th>PoolArea</th>\n",
       "      <th>MiscVal</th>\n",
       "      <th>MoSold</th>\n",
       "      <th>YrSold</th>\n",
       "    </tr>\n",
       "    <tr>\n",
       "      <th>Id</th>\n",
       "      <th></th>\n",
       "      <th></th>\n",
       "      <th></th>\n",
       "      <th></th>\n",
       "      <th></th>\n",
       "      <th></th>\n",
       "      <th></th>\n",
       "      <th></th>\n",
       "      <th></th>\n",
       "      <th></th>\n",
       "      <th></th>\n",
       "      <th></th>\n",
       "      <th></th>\n",
       "      <th></th>\n",
       "      <th></th>\n",
       "      <th></th>\n",
       "      <th></th>\n",
       "      <th></th>\n",
       "      <th></th>\n",
       "      <th></th>\n",
       "      <th></th>\n",
       "    </tr>\n",
       "  </thead>\n",
       "  <tbody>\n",
       "    <tr>\n",
       "      <th>619</th>\n",
       "      <td>20</td>\n",
       "      <td>90.0</td>\n",
       "      <td>11694</td>\n",
       "      <td>9</td>\n",
       "      <td>5</td>\n",
       "      <td>2007</td>\n",
       "      <td>2007</td>\n",
       "      <td>452.0</td>\n",
       "      <td>48</td>\n",
       "      <td>0</td>\n",
       "      <td>...</td>\n",
       "      <td>774</td>\n",
       "      <td>0</td>\n",
       "      <td>108</td>\n",
       "      <td>0</td>\n",
       "      <td>0</td>\n",
       "      <td>260</td>\n",
       "      <td>0</td>\n",
       "      <td>0</td>\n",
       "      <td>7</td>\n",
       "      <td>2007</td>\n",
       "    </tr>\n",
       "    <tr>\n",
       "      <th>871</th>\n",
       "      <td>20</td>\n",
       "      <td>60.0</td>\n",
       "      <td>6600</td>\n",
       "      <td>5</td>\n",
       "      <td>5</td>\n",
       "      <td>1962</td>\n",
       "      <td>1962</td>\n",
       "      <td>0.0</td>\n",
       "      <td>0</td>\n",
       "      <td>0</td>\n",
       "      <td>...</td>\n",
       "      <td>308</td>\n",
       "      <td>0</td>\n",
       "      <td>0</td>\n",
       "      <td>0</td>\n",
       "      <td>0</td>\n",
       "      <td>0</td>\n",
       "      <td>0</td>\n",
       "      <td>0</td>\n",
       "      <td>8</td>\n",
       "      <td>2009</td>\n",
       "    </tr>\n",
       "    <tr>\n",
       "      <th>93</th>\n",
       "      <td>30</td>\n",
       "      <td>80.0</td>\n",
       "      <td>13360</td>\n",
       "      <td>5</td>\n",
       "      <td>7</td>\n",
       "      <td>1921</td>\n",
       "      <td>2006</td>\n",
       "      <td>0.0</td>\n",
       "      <td>713</td>\n",
       "      <td>0</td>\n",
       "      <td>...</td>\n",
       "      <td>432</td>\n",
       "      <td>0</td>\n",
       "      <td>0</td>\n",
       "      <td>44</td>\n",
       "      <td>0</td>\n",
       "      <td>0</td>\n",
       "      <td>0</td>\n",
       "      <td>0</td>\n",
       "      <td>8</td>\n",
       "      <td>2009</td>\n",
       "    </tr>\n",
       "    <tr>\n",
       "      <th>818</th>\n",
       "      <td>20</td>\n",
       "      <td>NaN</td>\n",
       "      <td>13265</td>\n",
       "      <td>8</td>\n",
       "      <td>5</td>\n",
       "      <td>2002</td>\n",
       "      <td>2002</td>\n",
       "      <td>148.0</td>\n",
       "      <td>1218</td>\n",
       "      <td>0</td>\n",
       "      <td>...</td>\n",
       "      <td>857</td>\n",
       "      <td>150</td>\n",
       "      <td>59</td>\n",
       "      <td>0</td>\n",
       "      <td>0</td>\n",
       "      <td>0</td>\n",
       "      <td>0</td>\n",
       "      <td>0</td>\n",
       "      <td>7</td>\n",
       "      <td>2008</td>\n",
       "    </tr>\n",
       "    <tr>\n",
       "      <th>303</th>\n",
       "      <td>20</td>\n",
       "      <td>118.0</td>\n",
       "      <td>13704</td>\n",
       "      <td>7</td>\n",
       "      <td>5</td>\n",
       "      <td>2001</td>\n",
       "      <td>2002</td>\n",
       "      <td>150.0</td>\n",
       "      <td>0</td>\n",
       "      <td>0</td>\n",
       "      <td>...</td>\n",
       "      <td>843</td>\n",
       "      <td>468</td>\n",
       "      <td>81</td>\n",
       "      <td>0</td>\n",
       "      <td>0</td>\n",
       "      <td>0</td>\n",
       "      <td>0</td>\n",
       "      <td>0</td>\n",
       "      <td>1</td>\n",
       "      <td>2006</td>\n",
       "    </tr>\n",
       "  </tbody>\n",
       "</table>\n",
       "<p>5 rows × 36 columns</p>\n",
       "</div>"
      ],
      "text/plain": [
       "     MSSubClass  LotFrontage  LotArea  OverallQual  OverallCond  YearBuilt  \\\n",
       "Id                                                                           \n",
       "619          20         90.0    11694            9            5       2007   \n",
       "871          20         60.0     6600            5            5       1962   \n",
       "93           30         80.0    13360            5            7       1921   \n",
       "818          20          NaN    13265            8            5       2002   \n",
       "303          20        118.0    13704            7            5       2001   \n",
       "\n",
       "     YearRemodAdd  MasVnrArea  BsmtFinSF1  BsmtFinSF2  ...  GarageArea  \\\n",
       "Id                                                     ...               \n",
       "619          2007       452.0          48           0  ...         774   \n",
       "871          1962         0.0           0           0  ...         308   \n",
       "93           2006         0.0         713           0  ...         432   \n",
       "818          2002       148.0        1218           0  ...         857   \n",
       "303          2002       150.0           0           0  ...         843   \n",
       "\n",
       "     WoodDeckSF  OpenPorchSF  EnclosedPorch  3SsnPorch  ScreenPorch  PoolArea  \\\n",
       "Id                                                                              \n",
       "619           0          108              0          0          260         0   \n",
       "871           0            0              0          0            0         0   \n",
       "93            0            0             44          0            0         0   \n",
       "818         150           59              0          0            0         0   \n",
       "303         468           81              0          0            0         0   \n",
       "\n",
       "     MiscVal  MoSold  YrSold  \n",
       "Id                            \n",
       "619        0       7    2007  \n",
       "871        0       8    2009  \n",
       "93         0       8    2009  \n",
       "818        0       7    2008  \n",
       "303        0       1    2006  \n",
       "\n",
       "[5 rows x 36 columns]"
      ]
     },
     "execution_count": 3,
     "metadata": {},
     "output_type": "execute_result"
    }
   ],
   "source": [
    "X_train.head()"
   ]
  },
  {
   "cell_type": "markdown",
   "id": "c88c8048",
   "metadata": {
    "papermill": {
     "duration": 0.008989,
     "end_time": "2022-11-04T10:02:42.038354",
     "exception": false,
     "start_time": "2022-11-04T10:02:42.029365",
     "status": "completed"
    },
    "tags": []
   },
   "source": [
    "You can already see a few missing values in the first several rows.  In the next step, you'll obtain a more comprehensive understanding of the missing values in the dataset.\n",
    "\n",
    "# Step 1: Preliminary investigation\n",
    "\n",
    "Run the code cell below without changes."
   ]
  },
  {
   "cell_type": "code",
   "execution_count": 4,
   "id": "3311e5c2",
   "metadata": {
    "execution": {
     "iopub.execute_input": "2022-11-04T10:02:42.059432Z",
     "iopub.status.busy": "2022-11-04T10:02:42.058986Z",
     "iopub.status.idle": "2022-11-04T10:02:42.068872Z",
     "shell.execute_reply": "2022-11-04T10:02:42.067677Z"
    },
    "papermill": {
     "duration": 0.023468,
     "end_time": "2022-11-04T10:02:42.071585",
     "exception": false,
     "start_time": "2022-11-04T10:02:42.048117",
     "status": "completed"
    },
    "tags": []
   },
   "outputs": [
    {
     "name": "stdout",
     "output_type": "stream",
     "text": [
      "(1168, 36)\n",
      "LotFrontage    212\n",
      "MasVnrArea       6\n",
      "GarageYrBlt     58\n",
      "dtype: int64\n"
     ]
    }
   ],
   "source": [
    "# Shape of training data (num_rows, num_columns)\n",
    "print(X_train.shape)\n",
    "\n",
    "# Number of missing values in each column of training data\n",
    "missing_val_count_by_column = (X_train.isnull().sum())\n",
    "print(missing_val_count_by_column[missing_val_count_by_column > 0])"
   ]
  },
  {
   "cell_type": "markdown",
   "id": "52f21cbc",
   "metadata": {
    "papermill": {
     "duration": 0.009137,
     "end_time": "2022-11-04T10:02:42.090274",
     "exception": false,
     "start_time": "2022-11-04T10:02:42.081137",
     "status": "completed"
    },
    "tags": []
   },
   "source": [
    "### Part A\n",
    "\n",
    "Use the above output to answer the questions below."
   ]
  },
  {
   "cell_type": "code",
   "execution_count": 5,
   "id": "8f7c0c49",
   "metadata": {
    "execution": {
     "iopub.execute_input": "2022-11-04T10:02:42.110956Z",
     "iopub.status.busy": "2022-11-04T10:02:42.110513Z",
     "iopub.status.idle": "2022-11-04T10:02:42.122378Z",
     "shell.execute_reply": "2022-11-04T10:02:42.121162Z"
    },
    "papermill": {
     "duration": 0.025314,
     "end_time": "2022-11-04T10:02:42.125018",
     "exception": false,
     "start_time": "2022-11-04T10:02:42.099704",
     "status": "completed"
    },
    "tags": []
   },
   "outputs": [
    {
     "data": {
      "application/javascript": [
       "parent.postMessage({\"jupyterEvent\": \"custom.exercise_interaction\", \"data\": {\"outcomeType\": 1, \"valueTowardsCompletion\": 1.0, \"interactionType\": 1, \"questionType\": 1, \"questionId\": \"1.1_InvestigateEquality\", \"learnToolsVersion\": \"0.3.4\", \"failureMessage\": \"\", \"exceptionClass\": \"\", \"trace\": \"\"}}, \"*\")"
      ],
      "text/plain": [
       "<IPython.core.display.Javascript object>"
      ]
     },
     "metadata": {},
     "output_type": "display_data"
    },
    {
     "data": {
      "text/markdown": [
       "<span style=\"color:#33cc33\">Correct</span>"
      ],
      "text/plain": [
       "Correct"
      ]
     },
     "metadata": {},
     "output_type": "display_data"
    }
   ],
   "source": [
    "# Fill in the line below: How many rows are in the training data?\n",
    "num_rows = X_train.shape[0]\n",
    "\n",
    "# Fill in the line below: How many columns in the training data\n",
    "# have missing values?\n",
    "num_cols_with_missing = missing_val_count_by_column[missing_val_count_by_column > 0].shape[0]\n",
    "\n",
    "# Fill in the line below: How many missing entries are contained in \n",
    "# all of the training data?\n",
    "tot_missing = missing_val_count_by_column.sum()\n",
    "\n",
    "# Check your answers\n",
    "step_1.a.check()"
   ]
  },
  {
   "cell_type": "code",
   "execution_count": 6,
   "id": "37b80369",
   "metadata": {
    "execution": {
     "iopub.execute_input": "2022-11-04T10:02:42.147083Z",
     "iopub.status.busy": "2022-11-04T10:02:42.146645Z",
     "iopub.status.idle": "2022-11-04T10:02:42.160805Z",
     "shell.execute_reply": "2022-11-04T10:02:42.159636Z"
    },
    "papermill": {
     "duration": 0.027743,
     "end_time": "2022-11-04T10:02:42.163167",
     "exception": false,
     "start_time": "2022-11-04T10:02:42.135424",
     "status": "completed"
    },
    "tags": []
   },
   "outputs": [
    {
     "data": {
      "application/javascript": [
       "parent.postMessage({\"jupyterEvent\": \"custom.exercise_interaction\", \"data\": {\"interactionType\": 2, \"questionType\": 1, \"questionId\": \"1.1_InvestigateEquality\", \"learnToolsVersion\": \"0.3.4\", \"valueTowardsCompletion\": 0.0, \"failureMessage\": \"\", \"exceptionClass\": \"\", \"trace\": \"\", \"outcomeType\": 4}}, \"*\")"
      ],
      "text/plain": [
       "<IPython.core.display.Javascript object>"
      ]
     },
     "metadata": {},
     "output_type": "display_data"
    },
    {
     "data": {
      "text/markdown": [
       "<span style=\"color:#3366cc\">Hint:</span> Use the output of `X_train.shape` to get the number of rows and columns in the training data.  The `missing_val_count_by_column` Series has an entry for each column in the data, and the output above prints the number of missing entries for each column with at least one missing entry."
      ],
      "text/plain": [
       "Hint: Use the output of `X_train.shape` to get the number of rows and columns in the training data.  The `missing_val_count_by_column` Series has an entry for each column in the data, and the output above prints the number of missing entries for each column with at least one missing entry."
      ]
     },
     "metadata": {},
     "output_type": "display_data"
    },
    {
     "data": {
      "application/javascript": [
       "parent.postMessage({\"jupyterEvent\": \"custom.exercise_interaction\", \"data\": {\"interactionType\": 3, \"questionType\": 1, \"questionId\": \"1.1_InvestigateEquality\", \"learnToolsVersion\": \"0.3.4\", \"valueTowardsCompletion\": 0.0, \"failureMessage\": \"\", \"exceptionClass\": \"\", \"trace\": \"\", \"outcomeType\": 4}}, \"*\")"
      ],
      "text/plain": [
       "<IPython.core.display.Javascript object>"
      ]
     },
     "metadata": {},
     "output_type": "display_data"
    },
    {
     "data": {
      "text/markdown": [
       "<span style=\"color:#33cc99\">Solution:</span> \n",
       "```python\n",
       "# How many rows are in the training data?\n",
       "num_rows = 1168\n",
       "\n",
       "# How many columns in the training data have missing values?\n",
       "num_cols_with_missing = 3\n",
       "\n",
       "# How many missing entries are contained in all of the training data?\n",
       "tot_missing = 212 + 6 + 58\n",
       "\n",
       "```"
      ],
      "text/plain": [
       "Solution: \n",
       "```python\n",
       "# How many rows are in the training data?\n",
       "num_rows = 1168\n",
       "\n",
       "# How many columns in the training data have missing values?\n",
       "num_cols_with_missing = 3\n",
       "\n",
       "# How many missing entries are contained in all of the training data?\n",
       "tot_missing = 212 + 6 + 58\n",
       "\n",
       "```"
      ]
     },
     "metadata": {},
     "output_type": "display_data"
    }
   ],
   "source": [
    "# Lines below will give you a hint or solution code\n",
    "step_1.a.hint()\n",
    "step_1.a.solution()"
   ]
  },
  {
   "cell_type": "markdown",
   "id": "13bffdd1",
   "metadata": {
    "papermill": {
     "duration": 0.00963,
     "end_time": "2022-11-04T10:02:42.183020",
     "exception": false,
     "start_time": "2022-11-04T10:02:42.173390",
     "status": "completed"
    },
    "tags": []
   },
   "source": [
    "### Part B\n",
    "Considering your answers above, what do you think is likely the best approach to dealing with the missing values?"
   ]
  },
  {
   "cell_type": "code",
   "execution_count": 7,
   "id": "e87d2fcf",
   "metadata": {
    "execution": {
     "iopub.execute_input": "2022-11-04T10:02:42.204777Z",
     "iopub.status.busy": "2022-11-04T10:02:42.204343Z",
     "iopub.status.idle": "2022-11-04T10:02:42.214045Z",
     "shell.execute_reply": "2022-11-04T10:02:42.212946Z"
    },
    "papermill": {
     "duration": 0.023332,
     "end_time": "2022-11-04T10:02:42.216285",
     "exception": false,
     "start_time": "2022-11-04T10:02:42.192953",
     "status": "completed"
    },
    "tags": []
   },
   "outputs": [
    {
     "data": {
      "application/javascript": [
       "parent.postMessage({\"jupyterEvent\": \"custom.exercise_interaction\", \"data\": {\"outcomeType\": 1, \"valueTowardsCompletion\": 1.0, \"interactionType\": 1, \"questionType\": 4, \"questionId\": \"1.2_InvestigateThought\", \"learnToolsVersion\": \"0.3.4\", \"failureMessage\": \"\", \"exceptionClass\": \"\", \"trace\": \"\"}}, \"*\")"
      ],
      "text/plain": [
       "<IPython.core.display.Javascript object>"
      ]
     },
     "metadata": {},
     "output_type": "display_data"
    },
    {
     "data": {
      "text/markdown": [
       "<span style=\"color:#33cc33\">Correct:</span> \n",
       "\n",
       "Since there are relatively few missing entries in the data (the column with the greatest percentage of missing values is missing less than 20% of its entries), we can expect that dropping columns is unlikely to yield good results.  This is because we'd be throwing away a lot of valuable data, and so imputation will likely perform better."
      ],
      "text/plain": [
       "Correct: \n",
       "\n",
       "Since there are relatively few missing entries in the data (the column with the greatest percentage of missing values is missing less than 20% of its entries), we can expect that dropping columns is unlikely to yield good results.  This is because we'd be throwing away a lot of valuable data, and so imputation will likely perform better."
      ]
     },
     "metadata": {},
     "output_type": "display_data"
    }
   ],
   "source": [
    "# Check your answer (Run this code cell to receive credit!)\n",
    "step_1.b.check()"
   ]
  },
  {
   "cell_type": "code",
   "execution_count": 8,
   "id": "70b6f5ef",
   "metadata": {
    "execution": {
     "iopub.execute_input": "2022-11-04T10:02:42.239078Z",
     "iopub.status.busy": "2022-11-04T10:02:42.238329Z",
     "iopub.status.idle": "2022-11-04T10:02:42.242832Z",
     "shell.execute_reply": "2022-11-04T10:02:42.241915Z"
    },
    "papermill": {
     "duration": 0.018513,
     "end_time": "2022-11-04T10:02:42.245046",
     "exception": false,
     "start_time": "2022-11-04T10:02:42.226533",
     "status": "completed"
    },
    "tags": []
   },
   "outputs": [],
   "source": [
    "#step_1.b.hint()"
   ]
  },
  {
   "cell_type": "markdown",
   "id": "4ebc3589",
   "metadata": {
    "papermill": {
     "duration": 0.00993,
     "end_time": "2022-11-04T10:02:42.265376",
     "exception": false,
     "start_time": "2022-11-04T10:02:42.255446",
     "status": "completed"
    },
    "tags": []
   },
   "source": [
    "To compare different approaches to dealing with missing values, you'll use the same `score_dataset()` function from the tutorial.  This function reports the [mean absolute error](https://en.wikipedia.org/wiki/Mean_absolute_error) (MAE) from a random forest model."
   ]
  },
  {
   "cell_type": "code",
   "execution_count": 9,
   "id": "5a1690e9",
   "metadata": {
    "execution": {
     "iopub.execute_input": "2022-11-04T10:02:42.288468Z",
     "iopub.status.busy": "2022-11-04T10:02:42.287651Z",
     "iopub.status.idle": "2022-11-04T10:02:42.528456Z",
     "shell.execute_reply": "2022-11-04T10:02:42.527362Z"
    },
    "papermill": {
     "duration": 0.255383,
     "end_time": "2022-11-04T10:02:42.531176",
     "exception": false,
     "start_time": "2022-11-04T10:02:42.275793",
     "status": "completed"
    },
    "tags": []
   },
   "outputs": [],
   "source": [
    "from sklearn.ensemble import RandomForestRegressor\n",
    "from sklearn.metrics import mean_absolute_error\n",
    "\n",
    "# Function for comparing different approaches\n",
    "def score_dataset(X_train, X_valid, y_train, y_valid):\n",
    "    model = RandomForestRegressor(n_estimators=100, random_state=0)\n",
    "    model.fit(X_train, y_train)\n",
    "    preds = model.predict(X_valid)\n",
    "    return mean_absolute_error(y_valid, preds)"
   ]
  },
  {
   "cell_type": "markdown",
   "id": "4a31f61a",
   "metadata": {
    "papermill": {
     "duration": 0.010161,
     "end_time": "2022-11-04T10:02:42.552874",
     "exception": false,
     "start_time": "2022-11-04T10:02:42.542713",
     "status": "completed"
    },
    "tags": []
   },
   "source": [
    "# Step 2: Drop columns with missing values\n",
    "\n",
    "In this step, you'll preprocess the data in `X_train` and `X_valid` to remove columns with missing values.  Set the preprocessed DataFrames to `reduced_X_train` and `reduced_X_valid`, respectively.  "
   ]
  },
  {
   "cell_type": "code",
   "execution_count": 10,
   "id": "e40c16c5",
   "metadata": {
    "execution": {
     "iopub.execute_input": "2022-11-04T10:02:42.576620Z",
     "iopub.status.busy": "2022-11-04T10:02:42.576050Z",
     "iopub.status.idle": "2022-11-04T10:02:42.606675Z",
     "shell.execute_reply": "2022-11-04T10:02:42.605118Z"
    },
    "papermill": {
     "duration": 0.045992,
     "end_time": "2022-11-04T10:02:42.609290",
     "exception": false,
     "start_time": "2022-11-04T10:02:42.563298",
     "status": "completed"
    },
    "tags": []
   },
   "outputs": [
    {
     "name": "stdout",
     "output_type": "stream",
     "text": [
      "Index(['LotFrontage', 'MasVnrArea', 'GarageYrBlt'], dtype='object')\n"
     ]
    },
    {
     "data": {
      "application/javascript": [
       "parent.postMessage({\"jupyterEvent\": \"custom.exercise_interaction\", \"data\": {\"outcomeType\": 1, \"valueTowardsCompletion\": 1.0, \"interactionType\": 1, \"questionType\": 2, \"questionId\": \"2_DropMissing\", \"learnToolsVersion\": \"0.3.4\", \"failureMessage\": \"\", \"exceptionClass\": \"\", \"trace\": \"\"}}, \"*\")"
      ],
      "text/plain": [
       "<IPython.core.display.Javascript object>"
      ]
     },
     "metadata": {},
     "output_type": "display_data"
    },
    {
     "data": {
      "text/markdown": [
       "<span style=\"color:#33cc33\">Correct</span>"
      ],
      "text/plain": [
       "Correct"
      ]
     },
     "metadata": {},
     "output_type": "display_data"
    }
   ],
   "source": [
    "# Fill in the line below: get names of columns with missing values\n",
    "print(missing_val_count_by_column[missing_val_count_by_column > 0].index)\n",
    "\n",
    "# Fill in the lines below: drop columns in training and validation data\n",
    "reduced_X_train = X_train.dropna(axis = 1)\n",
    "reduced_X_valid = X_valid.dropna(axis = 1)\n",
    "\n",
    "# Check your answers\n",
    "step_2.check()"
   ]
  },
  {
   "cell_type": "code",
   "execution_count": 11,
   "id": "bf05da7d",
   "metadata": {
    "execution": {
     "iopub.execute_input": "2022-11-04T10:02:42.633197Z",
     "iopub.status.busy": "2022-11-04T10:02:42.632076Z",
     "iopub.status.idle": "2022-11-04T10:02:42.642139Z",
     "shell.execute_reply": "2022-11-04T10:02:42.640924Z"
    },
    "papermill": {
     "duration": 0.024629,
     "end_time": "2022-11-04T10:02:42.644667",
     "exception": false,
     "start_time": "2022-11-04T10:02:42.620038",
     "status": "completed"
    },
    "tags": []
   },
   "outputs": [
    {
     "data": {
      "application/javascript": [
       "parent.postMessage({\"jupyterEvent\": \"custom.exercise_interaction\", \"data\": {\"interactionType\": 3, \"questionType\": 2, \"questionId\": \"2_DropMissing\", \"learnToolsVersion\": \"0.3.4\", \"valueTowardsCompletion\": 0.0, \"failureMessage\": \"\", \"exceptionClass\": \"\", \"trace\": \"\", \"outcomeType\": 4}}, \"*\")"
      ],
      "text/plain": [
       "<IPython.core.display.Javascript object>"
      ]
     },
     "metadata": {},
     "output_type": "display_data"
    },
    {
     "data": {
      "text/markdown": [
       "<span style=\"color:#33cc99\">Solution:</span> \n",
       "```python\n",
       "# Get names of columns with missing values\n",
       "cols_with_missing = [col for col in X_train.columns\n",
       "                     if X_train[col].isnull().any()]\n",
       "\n",
       "# Drop columns in training and validation data\n",
       "reduced_X_train = X_train.drop(cols_with_missing, axis=1)\n",
       "reduced_X_valid = X_valid.drop(cols_with_missing, axis=1)\n",
       "\n",
       "```"
      ],
      "text/plain": [
       "Solution: \n",
       "```python\n",
       "# Get names of columns with missing values\n",
       "cols_with_missing = [col for col in X_train.columns\n",
       "                     if X_train[col].isnull().any()]\n",
       "\n",
       "# Drop columns in training and validation data\n",
       "reduced_X_train = X_train.drop(cols_with_missing, axis=1)\n",
       "reduced_X_valid = X_valid.drop(cols_with_missing, axis=1)\n",
       "\n",
       "```"
      ]
     },
     "metadata": {},
     "output_type": "display_data"
    }
   ],
   "source": [
    "# Lines below will give you a hint or solution code\n",
    "#step_2.hint()\n",
    "step_2.solution()"
   ]
  },
  {
   "cell_type": "markdown",
   "id": "a4394829",
   "metadata": {
    "papermill": {
     "duration": 0.010498,
     "end_time": "2022-11-04T10:02:42.666103",
     "exception": false,
     "start_time": "2022-11-04T10:02:42.655605",
     "status": "completed"
    },
    "tags": []
   },
   "source": [
    "Run the next code cell without changes to obtain the MAE for this approach."
   ]
  },
  {
   "cell_type": "code",
   "execution_count": 12,
   "id": "b949335c",
   "metadata": {
    "execution": {
     "iopub.execute_input": "2022-11-04T10:02:42.690370Z",
     "iopub.status.busy": "2022-11-04T10:02:42.689973Z",
     "iopub.status.idle": "2022-11-04T10:02:43.815694Z",
     "shell.execute_reply": "2022-11-04T10:02:43.813804Z"
    },
    "papermill": {
     "duration": 1.141436,
     "end_time": "2022-11-04T10:02:43.818697",
     "exception": false,
     "start_time": "2022-11-04T10:02:42.677261",
     "status": "completed"
    },
    "tags": []
   },
   "outputs": [
    {
     "name": "stdout",
     "output_type": "stream",
     "text": [
      "MAE (Drop columns with missing values):\n",
      "17837.82570776256\n"
     ]
    }
   ],
   "source": [
    "print(\"MAE (Drop columns with missing values):\")\n",
    "print(score_dataset(reduced_X_train, reduced_X_valid, y_train, y_valid))"
   ]
  },
  {
   "cell_type": "markdown",
   "id": "24cd4a00",
   "metadata": {
    "papermill": {
     "duration": 0.010531,
     "end_time": "2022-11-04T10:02:43.840595",
     "exception": false,
     "start_time": "2022-11-04T10:02:43.830064",
     "status": "completed"
    },
    "tags": []
   },
   "source": [
    "# Step 3: Imputation\n",
    "\n",
    "### Part A\n",
    "\n",
    "Use the next code cell to impute missing values with the mean value along each column.  Set the preprocessed DataFrames to `imputed_X_train` and `imputed_X_valid`.  Make sure that the column names match those in `X_train` and `X_valid`."
   ]
  },
  {
   "cell_type": "code",
   "execution_count": 13,
   "id": "7857cc02",
   "metadata": {
    "execution": {
     "iopub.execute_input": "2022-11-04T10:02:43.864358Z",
     "iopub.status.busy": "2022-11-04T10:02:43.863945Z",
     "iopub.status.idle": "2022-11-04T10:02:43.900949Z",
     "shell.execute_reply": "2022-11-04T10:02:43.899724Z"
    },
    "papermill": {
     "duration": 0.051981,
     "end_time": "2022-11-04T10:02:43.903446",
     "exception": false,
     "start_time": "2022-11-04T10:02:43.851465",
     "status": "completed"
    },
    "tags": []
   },
   "outputs": [
    {
     "data": {
      "application/javascript": [
       "parent.postMessage({\"jupyterEvent\": \"custom.exercise_interaction\", \"data\": {\"outcomeType\": 1, \"valueTowardsCompletion\": 1.0, \"interactionType\": 1, \"questionType\": 2, \"questionId\": \"3.1_ImputeCode\", \"learnToolsVersion\": \"0.3.4\", \"failureMessage\": \"\", \"exceptionClass\": \"\", \"trace\": \"\"}}, \"*\")"
      ],
      "text/plain": [
       "<IPython.core.display.Javascript object>"
      ]
     },
     "metadata": {},
     "output_type": "display_data"
    },
    {
     "data": {
      "text/markdown": [
       "<span style=\"color:#33cc33\">Correct</span>"
      ],
      "text/plain": [
       "Correct"
      ]
     },
     "metadata": {},
     "output_type": "display_data"
    }
   ],
   "source": [
    "from sklearn.impute import SimpleImputer\n",
    "\n",
    "# Fill in the lines below: imputation\n",
    "imputing = SimpleImputer() # Your code here\n",
    "imputed_X_train = pd.DataFrame(imputing.fit_transform(X_train))\n",
    "imputed_X_valid = pd.DataFrame(imputing.transform(X_valid))\n",
    "\n",
    "# Fill in the lines below: imputation removed column names; put them back\n",
    "imputed_X_train.columns = X_train.columns\n",
    "imputed_X_valid.columns = X_valid.columns\n",
    "\n",
    "# Check your answers\n",
    "step_3.a.check()"
   ]
  },
  {
   "cell_type": "code",
   "execution_count": 14,
   "id": "c1226d50",
   "metadata": {
    "execution": {
     "iopub.execute_input": "2022-11-04T10:02:43.928351Z",
     "iopub.status.busy": "2022-11-04T10:02:43.927894Z",
     "iopub.status.idle": "2022-11-04T10:02:43.942143Z",
     "shell.execute_reply": "2022-11-04T10:02:43.940723Z"
    },
    "papermill": {
     "duration": 0.029784,
     "end_time": "2022-11-04T10:02:43.944540",
     "exception": false,
     "start_time": "2022-11-04T10:02:43.914756",
     "status": "completed"
    },
    "tags": []
   },
   "outputs": [
    {
     "data": {
      "application/javascript": [
       "parent.postMessage({\"jupyterEvent\": \"custom.exercise_interaction\", \"data\": {\"interactionType\": 2, \"questionType\": 2, \"questionId\": \"3.1_ImputeCode\", \"learnToolsVersion\": \"0.3.4\", \"valueTowardsCompletion\": 0.0, \"failureMessage\": \"\", \"exceptionClass\": \"\", \"trace\": \"\", \"outcomeType\": 4}}, \"*\")"
      ],
      "text/plain": [
       "<IPython.core.display.Javascript object>"
      ]
     },
     "metadata": {},
     "output_type": "display_data"
    },
    {
     "data": {
      "text/markdown": [
       "<span style=\"color:#3366cc\">Hint:</span> Begin by defining an instance of the `SimpleImputer()` class.  Then, use the imputer to fit and transform the training data, before transforming the validation data. Get the original column names from the original DataFrames `X_train` and `X_valid`."
      ],
      "text/plain": [
       "Hint: Begin by defining an instance of the `SimpleImputer()` class.  Then, use the imputer to fit and transform the training data, before transforming the validation data. Get the original column names from the original DataFrames `X_train` and `X_valid`."
      ]
     },
     "metadata": {},
     "output_type": "display_data"
    },
    {
     "data": {
      "application/javascript": [
       "parent.postMessage({\"jupyterEvent\": \"custom.exercise_interaction\", \"data\": {\"interactionType\": 3, \"questionType\": 2, \"questionId\": \"3.1_ImputeCode\", \"learnToolsVersion\": \"0.3.4\", \"valueTowardsCompletion\": 0.0, \"failureMessage\": \"\", \"exceptionClass\": \"\", \"trace\": \"\", \"outcomeType\": 4}}, \"*\")"
      ],
      "text/plain": [
       "<IPython.core.display.Javascript object>"
      ]
     },
     "metadata": {},
     "output_type": "display_data"
    },
    {
     "data": {
      "text/markdown": [
       "<span style=\"color:#33cc99\">Solution:</span> \n",
       "```python\n",
       "# Imputation\n",
       "my_imputer = SimpleImputer()\n",
       "imputed_X_train = pd.DataFrame(my_imputer.fit_transform(X_train))\n",
       "imputed_X_valid = pd.DataFrame(my_imputer.transform(X_valid))\n",
       "\n",
       "# Imputation removed column names; put them back\n",
       "imputed_X_train.columns = X_train.columns\n",
       "imputed_X_valid.columns = X_valid.columns\n",
       "\n",
       "```"
      ],
      "text/plain": [
       "Solution: \n",
       "```python\n",
       "# Imputation\n",
       "my_imputer = SimpleImputer()\n",
       "imputed_X_train = pd.DataFrame(my_imputer.fit_transform(X_train))\n",
       "imputed_X_valid = pd.DataFrame(my_imputer.transform(X_valid))\n",
       "\n",
       "# Imputation removed column names; put them back\n",
       "imputed_X_train.columns = X_train.columns\n",
       "imputed_X_valid.columns = X_valid.columns\n",
       "\n",
       "```"
      ]
     },
     "metadata": {},
     "output_type": "display_data"
    }
   ],
   "source": [
    "# Lines below will give you a hint or solution code\n",
    "step_3.a.hint()\n",
    "step_3.a.solution()"
   ]
  },
  {
   "cell_type": "markdown",
   "id": "ed8a344e",
   "metadata": {
    "papermill": {
     "duration": 0.011406,
     "end_time": "2022-11-04T10:02:43.967952",
     "exception": false,
     "start_time": "2022-11-04T10:02:43.956546",
     "status": "completed"
    },
    "tags": []
   },
   "source": [
    "Run the next code cell without changes to obtain the MAE for this approach."
   ]
  },
  {
   "cell_type": "code",
   "execution_count": 15,
   "id": "9bae2f2f",
   "metadata": {
    "execution": {
     "iopub.execute_input": "2022-11-04T10:02:43.994790Z",
     "iopub.status.busy": "2022-11-04T10:02:43.994219Z",
     "iopub.status.idle": "2022-11-04T10:02:45.239480Z",
     "shell.execute_reply": "2022-11-04T10:02:45.237964Z"
    },
    "papermill": {
     "duration": 1.262397,
     "end_time": "2022-11-04T10:02:45.242611",
     "exception": false,
     "start_time": "2022-11-04T10:02:43.980214",
     "status": "completed"
    },
    "tags": []
   },
   "outputs": [
    {
     "name": "stdout",
     "output_type": "stream",
     "text": [
      "MAE (Imputation):\n",
      "18062.894611872147\n"
     ]
    }
   ],
   "source": [
    "print(\"MAE (Imputation):\")\n",
    "print(score_dataset(imputed_X_train, imputed_X_valid, y_train, y_valid))"
   ]
  },
  {
   "cell_type": "markdown",
   "id": "fbb5370e",
   "metadata": {
    "papermill": {
     "duration": 0.011356,
     "end_time": "2022-11-04T10:02:45.266518",
     "exception": false,
     "start_time": "2022-11-04T10:02:45.255162",
     "status": "completed"
    },
    "tags": []
   },
   "source": [
    "### Part B\n",
    "\n",
    "Compare the MAE from each approach.  Does anything surprise you about the results?  Why do you think one approach performed better than the other?"
   ]
  },
  {
   "cell_type": "code",
   "execution_count": 16,
   "id": "8a1398be",
   "metadata": {
    "execution": {
     "iopub.execute_input": "2022-11-04T10:02:45.293600Z",
     "iopub.status.busy": "2022-11-04T10:02:45.292676Z",
     "iopub.status.idle": "2022-11-04T10:02:45.302367Z",
     "shell.execute_reply": "2022-11-04T10:02:45.301180Z"
    },
    "papermill": {
     "duration": 0.025864,
     "end_time": "2022-11-04T10:02:45.304671",
     "exception": false,
     "start_time": "2022-11-04T10:02:45.278807",
     "status": "completed"
    },
    "tags": []
   },
   "outputs": [
    {
     "data": {
      "application/javascript": [
       "parent.postMessage({\"jupyterEvent\": \"custom.exercise_interaction\", \"data\": {\"outcomeType\": 1, \"valueTowardsCompletion\": 1.0, \"interactionType\": 1, \"questionType\": 4, \"questionId\": \"3.2_ImputeThought\", \"learnToolsVersion\": \"0.3.4\", \"failureMessage\": \"\", \"exceptionClass\": \"\", \"trace\": \"\"}}, \"*\")"
      ],
      "text/plain": [
       "<IPython.core.display.Javascript object>"
      ]
     },
     "metadata": {},
     "output_type": "display_data"
    },
    {
     "data": {
      "text/markdown": [
       "<span style=\"color:#33cc33\">Correct:</span> \n",
       "\n",
       "Given that thre are so few missing values in the dataset, we'd expect imputation to perform better than dropping columns entirely.  However, we see that dropping columns performs slightly better!  While this can probably partially be attributed to noise in the dataset, another potential explanation is that the imputation method is not a great match to this dataset.  That is, maybe instead of filling in the mean value, it makes more sense to set every missing value to a value of 0, to fill in the most frequently encountered value, or to use some other method.  For instance, consider the `GarageYrBlt` column (which indicates the year that the garage was built).  It's likely that in some cases, a missing value could indicate a house that does not have a garage.  Does it make more sense to fill in the median value along each column in this case?  Or could we get better results by filling in the minimum value along each column?  It's not quite clear what's best in this case, but perhaps we can rule out some options immediately - for instance, setting missing values in this column to 0 is likely to yield horrible results!"
      ],
      "text/plain": [
       "Correct: \n",
       "\n",
       "Given that thre are so few missing values in the dataset, we'd expect imputation to perform better than dropping columns entirely.  However, we see that dropping columns performs slightly better!  While this can probably partially be attributed to noise in the dataset, another potential explanation is that the imputation method is not a great match to this dataset.  That is, maybe instead of filling in the mean value, it makes more sense to set every missing value to a value of 0, to fill in the most frequently encountered value, or to use some other method.  For instance, consider the `GarageYrBlt` column (which indicates the year that the garage was built).  It's likely that in some cases, a missing value could indicate a house that does not have a garage.  Does it make more sense to fill in the median value along each column in this case?  Or could we get better results by filling in the minimum value along each column?  It's not quite clear what's best in this case, but perhaps we can rule out some options immediately - for instance, setting missing values in this column to 0 is likely to yield horrible results!"
      ]
     },
     "metadata": {},
     "output_type": "display_data"
    }
   ],
   "source": [
    "# Check your answer (Run this code cell to receive credit!)\n",
    "step_3.b.check()"
   ]
  },
  {
   "cell_type": "code",
   "execution_count": 17,
   "id": "8732bda8",
   "metadata": {
    "execution": {
     "iopub.execute_input": "2022-11-04T10:02:45.331780Z",
     "iopub.status.busy": "2022-11-04T10:02:45.331376Z",
     "iopub.status.idle": "2022-11-04T10:02:45.336125Z",
     "shell.execute_reply": "2022-11-04T10:02:45.334796Z"
    },
    "papermill": {
     "duration": 0.021075,
     "end_time": "2022-11-04T10:02:45.338568",
     "exception": false,
     "start_time": "2022-11-04T10:02:45.317493",
     "status": "completed"
    },
    "tags": []
   },
   "outputs": [],
   "source": [
    "#step_3.b.hint()"
   ]
  },
  {
   "cell_type": "markdown",
   "id": "6cbc071f",
   "metadata": {
    "papermill": {
     "duration": 0.011713,
     "end_time": "2022-11-04T10:02:45.362620",
     "exception": false,
     "start_time": "2022-11-04T10:02:45.350907",
     "status": "completed"
    },
    "tags": []
   },
   "source": [
    "# Step 4: Generate test predictions\n",
    "\n",
    "In this final step, you'll use any approach of your choosing to deal with missing values.  Once you've preprocessed the training and validation features, you'll train and evaluate a random forest model.  Then, you'll preprocess the test data before generating predictions that can be submitted to the competition!\n",
    "\n",
    "### Part A\n",
    "\n",
    "Use the next code cell to preprocess the training and validation data.  Set the preprocessed DataFrames to `final_X_train` and `final_X_valid`.  **You can use any approach of your choosing here!**  in order for this step to be marked as correct, you need only ensure:\n",
    "- the preprocessed DataFrames have the same number of columns,\n",
    "- the preprocessed DataFrames have no missing values, \n",
    "- `final_X_train` and `y_train` have the same number of rows, and\n",
    "- `final_X_valid` and `y_valid` have the same number of rows."
   ]
  },
  {
   "cell_type": "code",
   "execution_count": 18,
   "id": "7fa21d64",
   "metadata": {
    "execution": {
     "iopub.execute_input": "2022-11-04T10:02:45.389254Z",
     "iopub.status.busy": "2022-11-04T10:02:45.388622Z",
     "iopub.status.idle": "2022-11-04T10:02:45.424258Z",
     "shell.execute_reply": "2022-11-04T10:02:45.422890Z"
    },
    "papermill": {
     "duration": 0.052003,
     "end_time": "2022-11-04T10:02:45.426752",
     "exception": false,
     "start_time": "2022-11-04T10:02:45.374749",
     "status": "completed"
    },
    "tags": []
   },
   "outputs": [
    {
     "data": {
      "application/javascript": [
       "parent.postMessage({\"jupyterEvent\": \"custom.exercise_interaction\", \"data\": {\"outcomeType\": 1, \"valueTowardsCompletion\": 1.0, \"interactionType\": 1, \"questionType\": 2, \"questionId\": \"4.1_PredsCodeA\", \"learnToolsVersion\": \"0.3.4\", \"failureMessage\": \"\", \"exceptionClass\": \"\", \"trace\": \"\"}}, \"*\")"
      ],
      "text/plain": [
       "<IPython.core.display.Javascript object>"
      ]
     },
     "metadata": {},
     "output_type": "display_data"
    },
    {
     "data": {
      "text/markdown": [
       "<span style=\"color:#33cc33\">Correct</span>"
      ],
      "text/plain": [
       "Correct"
      ]
     },
     "metadata": {},
     "output_type": "display_data"
    }
   ],
   "source": [
    "# Preprocessed training and validation features\n",
    "# Imputation\n",
    "imputing = SimpleImputer(strategy='median')\n",
    "final_X_train = pd.DataFrame(imputing.fit_transform(X_train))\n",
    "final_X_valid = pd.DataFrame(imputing.transform(X_valid))\n",
    "\n",
    "# Imputation removed column names; put them back\n",
    "final_X_train.columns = X_train.columns\n",
    "final_X_valid.columns = X_valid.columns\n",
    "\n",
    "# Check your answers\n",
    "step_4.a.check()"
   ]
  },
  {
   "cell_type": "code",
   "execution_count": 19,
   "id": "f425f813",
   "metadata": {
    "execution": {
     "iopub.execute_input": "2022-11-04T10:02:45.453610Z",
     "iopub.status.busy": "2022-11-04T10:02:45.453208Z",
     "iopub.status.idle": "2022-11-04T10:02:45.462694Z",
     "shell.execute_reply": "2022-11-04T10:02:45.461912Z"
    },
    "papermill": {
     "duration": 0.025522,
     "end_time": "2022-11-04T10:02:45.465012",
     "exception": false,
     "start_time": "2022-11-04T10:02:45.439490",
     "status": "completed"
    },
    "tags": []
   },
   "outputs": [
    {
     "data": {
      "application/javascript": [
       "parent.postMessage({\"jupyterEvent\": \"custom.exercise_interaction\", \"data\": {\"interactionType\": 3, \"questionType\": 2, \"questionId\": \"4.1_PredsCodeA\", \"learnToolsVersion\": \"0.3.4\", \"valueTowardsCompletion\": 0.0, \"failureMessage\": \"\", \"exceptionClass\": \"\", \"trace\": \"\", \"outcomeType\": 4}}, \"*\")"
      ],
      "text/plain": [
       "<IPython.core.display.Javascript object>"
      ]
     },
     "metadata": {},
     "output_type": "display_data"
    },
    {
     "data": {
      "text/markdown": [
       "<span style=\"color:#33cc99\">Solution:</span> \n",
       "```python\n",
       "# Imputation\n",
       "final_imputer = SimpleImputer(strategy='median')\n",
       "final_X_train = pd.DataFrame(final_imputer.fit_transform(X_train))\n",
       "final_X_valid = pd.DataFrame(final_imputer.transform(X_valid))\n",
       "\n",
       "# Imputation removed column names; put them back\n",
       "final_X_train.columns = X_train.columns\n",
       "final_X_valid.columns = X_valid.columns\n",
       "\n",
       "```"
      ],
      "text/plain": [
       "Solution: \n",
       "```python\n",
       "# Imputation\n",
       "final_imputer = SimpleImputer(strategy='median')\n",
       "final_X_train = pd.DataFrame(final_imputer.fit_transform(X_train))\n",
       "final_X_valid = pd.DataFrame(final_imputer.transform(X_valid))\n",
       "\n",
       "# Imputation removed column names; put them back\n",
       "final_X_train.columns = X_train.columns\n",
       "final_X_valid.columns = X_valid.columns\n",
       "\n",
       "```"
      ]
     },
     "metadata": {},
     "output_type": "display_data"
    }
   ],
   "source": [
    "# Lines below will give you a hint or solution code\n",
    "#step_4.a.hint()\n",
    "step_4.a.solution()"
   ]
  },
  {
   "cell_type": "markdown",
   "id": "b76d6f32",
   "metadata": {
    "papermill": {
     "duration": 0.012254,
     "end_time": "2022-11-04T10:02:45.490141",
     "exception": false,
     "start_time": "2022-11-04T10:02:45.477887",
     "status": "completed"
    },
    "tags": []
   },
   "source": [
    "Run the next code cell to train and evaluate a random forest model.  (*Note that we don't use the `score_dataset()` function above, because we will soon use the trained model to generate test predictions!*)"
   ]
  },
  {
   "cell_type": "code",
   "execution_count": 20,
   "id": "f0b7bc9f",
   "metadata": {
    "execution": {
     "iopub.execute_input": "2022-11-04T10:02:45.519530Z",
     "iopub.status.busy": "2022-11-04T10:02:45.519115Z",
     "iopub.status.idle": "2022-11-04T10:02:46.763405Z",
     "shell.execute_reply": "2022-11-04T10:02:46.762436Z"
    },
    "papermill": {
     "duration": 1.262915,
     "end_time": "2022-11-04T10:02:46.765984",
     "exception": false,
     "start_time": "2022-11-04T10:02:45.503069",
     "status": "completed"
    },
    "tags": []
   },
   "outputs": [
    {
     "name": "stdout",
     "output_type": "stream",
     "text": [
      "MAE (Your approach):\n",
      "17791.59899543379\n"
     ]
    }
   ],
   "source": [
    "# Define and fit model\n",
    "model = RandomForestRegressor(n_estimators=100, random_state=0)\n",
    "model.fit(final_X_train, y_train)\n",
    "\n",
    "# Get validation predictions and MAE\n",
    "preds_valid = model.predict(final_X_valid)\n",
    "print(\"MAE (Your approach):\")\n",
    "print(mean_absolute_error(y_valid, preds_valid))"
   ]
  },
  {
   "cell_type": "markdown",
   "id": "c67564b0",
   "metadata": {
    "papermill": {
     "duration": 0.012368,
     "end_time": "2022-11-04T10:02:46.790995",
     "exception": false,
     "start_time": "2022-11-04T10:02:46.778627",
     "status": "completed"
    },
    "tags": []
   },
   "source": [
    "### Part B\n",
    "\n",
    "Use the next code cell to preprocess your test data.  Make sure that you use a method that agrees with how you preprocessed the training and validation data, and set the preprocessed test features to `final_X_test`.\n",
    "\n",
    "Then, use the preprocessed test features and the trained model to generate test predictions in `preds_test`.\n",
    "\n",
    "In order for this step to be marked correct, you need only ensure:\n",
    "- the preprocessed test DataFrame has no missing values, and\n",
    "- `final_X_test` has the same number of rows as `X_test`."
   ]
  },
  {
   "cell_type": "code",
   "execution_count": 21,
   "id": "e4975a4d",
   "metadata": {
    "execution": {
     "iopub.execute_input": "2022-11-04T10:02:46.818632Z",
     "iopub.status.busy": "2022-11-04T10:02:46.817971Z",
     "iopub.status.idle": "2022-11-04T10:02:46.880246Z",
     "shell.execute_reply": "2022-11-04T10:02:46.878450Z"
    },
    "papermill": {
     "duration": 0.079317,
     "end_time": "2022-11-04T10:02:46.882983",
     "exception": false,
     "start_time": "2022-11-04T10:02:46.803666",
     "status": "completed"
    },
    "tags": []
   },
   "outputs": [
    {
     "name": "stderr",
     "output_type": "stream",
     "text": [
      "/opt/conda/lib/python3.7/site-packages/sklearn/base.py:451: UserWarning: X does not have valid feature names, but RandomForestRegressor was fitted with feature names\n",
      "  \"X does not have valid feature names, but\"\n"
     ]
    },
    {
     "data": {
      "application/javascript": [
       "parent.postMessage({\"jupyterEvent\": \"custom.exercise_interaction\", \"data\": {\"outcomeType\": 1, \"valueTowardsCompletion\": 1.0, \"interactionType\": 1, \"questionType\": 2, \"questionId\": \"4.2_PredsCodeB\", \"learnToolsVersion\": \"0.3.4\", \"failureMessage\": \"\", \"exceptionClass\": \"\", \"trace\": \"\"}}, \"*\")"
      ],
      "text/plain": [
       "<IPython.core.display.Javascript object>"
      ]
     },
     "metadata": {},
     "output_type": "display_data"
    },
    {
     "data": {
      "text/markdown": [
       "<span style=\"color:#33cc33\">Correct</span>"
      ],
      "text/plain": [
       "Correct"
      ]
     },
     "metadata": {},
     "output_type": "display_data"
    }
   ],
   "source": [
    "# Fill in the line below: preprocess test data\n",
    "final_X_test = pd.DataFrame(imputing.transform(X_test))\n",
    "\n",
    "# Fill in the line below: get test predictions\n",
    "preds_test = model.predict(final_X_test)\n",
    "\n",
    "# Check your answers\n",
    "step_4.b.check()"
   ]
  },
  {
   "cell_type": "code",
   "execution_count": 22,
   "id": "af07f128",
   "metadata": {
    "execution": {
     "iopub.execute_input": "2022-11-04T10:02:46.911045Z",
     "iopub.status.busy": "2022-11-04T10:02:46.910574Z",
     "iopub.status.idle": "2022-11-04T10:02:46.918456Z",
     "shell.execute_reply": "2022-11-04T10:02:46.916396Z"
    },
    "papermill": {
     "duration": 0.024935,
     "end_time": "2022-11-04T10:02:46.921033",
     "exception": false,
     "start_time": "2022-11-04T10:02:46.896098",
     "status": "completed"
    },
    "tags": []
   },
   "outputs": [
    {
     "name": "stdout",
     "output_type": "stream",
     "text": [
      "Int64Index([1461, 1462, 1463, 1464, 1465, 1466, 1467, 1468, 1469, 1470,\n",
      "            ...\n",
      "            2910, 2911, 2912, 2913, 2914, 2915, 2916, 2917, 2918, 2919],\n",
      "           dtype='int64', name='Id', length=1459)\n"
     ]
    }
   ],
   "source": [
    "# Lines below will give you a hint or solution code\n",
    "#step_4.b.hint()\n",
    "#step_4.b.solution()\n",
    "\n",
    "print(X_test.index)"
   ]
  },
  {
   "cell_type": "markdown",
   "id": "9f1a3ebe",
   "metadata": {
    "papermill": {
     "duration": 0.012832,
     "end_time": "2022-11-04T10:02:46.947228",
     "exception": false,
     "start_time": "2022-11-04T10:02:46.934396",
     "status": "completed"
    },
    "tags": []
   },
   "source": [
    "Run the next code cell without changes to save your results to a CSV file that can be submitted directly to the competition."
   ]
  },
  {
   "cell_type": "code",
   "execution_count": 23,
   "id": "dcc5fe6b",
   "metadata": {
    "execution": {
     "iopub.execute_input": "2022-11-04T10:02:46.976258Z",
     "iopub.status.busy": "2022-11-04T10:02:46.975773Z",
     "iopub.status.idle": "2022-11-04T10:02:46.987971Z",
     "shell.execute_reply": "2022-11-04T10:02:46.986996Z"
    },
    "papermill": {
     "duration": 0.030285,
     "end_time": "2022-11-04T10:02:46.990595",
     "exception": false,
     "start_time": "2022-11-04T10:02:46.960310",
     "status": "completed"
    },
    "tags": []
   },
   "outputs": [],
   "source": [
    "# Save test predictions to file\n",
    "output = pd.DataFrame({'Id': X_test.index,\n",
    "                       'SalePrice': preds_test})\n",
    "output.to_csv('submission.csv', index=False)"
   ]
  },
  {
   "cell_type": "markdown",
   "id": "bef6058d",
   "metadata": {
    "papermill": {
     "duration": 0.0135,
     "end_time": "2022-11-04T10:02:47.017505",
     "exception": false,
     "start_time": "2022-11-04T10:02:47.004005",
     "status": "completed"
    },
    "tags": []
   },
   "source": [
    "# Submit your results\n",
    "\n",
    "Once you have successfully completed Step 4, you're ready to submit your results to the leaderboard!  (_You also learned how to do this in the previous exercise.  If you need a reminder of how to do this, please use the instructions below._)  \n",
    "\n",
    "First, you'll need to join the competition if you haven't already.  So open a new window by clicking on [this link](https://www.kaggle.com/c/home-data-for-ml-course).  Then click on the **Join Competition** button.\n",
    "\n",
    "![join competition image](https://i.imgur.com/wLmFtH3.png)\n",
    "\n",
    "Next, follow the instructions below:\n",
    "1. Begin by clicking on the **Save Version** button in the top right corner of the window.  This will generate a pop-up window.  \n",
    "2. Ensure that the **Save and Run All** option is selected, and then click on the **Save** button.\n",
    "3. This generates a window in the bottom left corner of the notebook.  After it has finished running, click on the number to the right of the **Save Version** button.  This pulls up a list of versions on the right of the screen.  Click on the ellipsis **(...)** to the right of the most recent version, and select **Open in Viewer**.  This brings you into view mode of the same page. You will need to scroll down to get back to these instructions.\n",
    "4. Click on the **Output** tab on the right of the screen.  Then, click on the file you would like to submit, and click on the **Submit** button to submit your results to the leaderboard.\n",
    "\n",
    "You have now successfully submitted to the competition!\n",
    "\n",
    "If you want to keep working to improve your performance, select the **Edit** button in the top right of the screen. Then you can change your code and repeat the process. There's a lot of room to improve, and you will climb up the leaderboard as you work.\n",
    "\n",
    "\n",
    "# Keep going\n",
    "\n",
    "Move on to learn what **[categorical variables](https://www.kaggle.com/alexisbcook/categorical-variables)** are, along with how to incorporate them into your machine learning models.  Categorical variables are very common in real-world data, but you'll get an error if you try to plug them into your models without processing them first!"
   ]
  },
  {
   "cell_type": "markdown",
   "id": "4a5bc41b",
   "metadata": {
    "papermill": {
     "duration": 0.01337,
     "end_time": "2022-11-04T10:02:47.043902",
     "exception": false,
     "start_time": "2022-11-04T10:02:47.030532",
     "status": "completed"
    },
    "tags": []
   },
   "source": [
    "---\n",
    "\n",
    "\n",
    "\n",
    "\n",
    "*Have questions or comments? Visit the [course discussion forum](https://www.kaggle.com/learn/intermediate-machine-learning/discussion) to chat with other learners.*"
   ]
  }
 ],
 "metadata": {
  "kernelspec": {
   "display_name": "Python 3",
   "language": "python",
   "name": "python3"
  },
  "language_info": {
   "codemirror_mode": {
    "name": "ipython",
    "version": 3
   },
   "file_extension": ".py",
   "mimetype": "text/x-python",
   "name": "python",
   "nbconvert_exporter": "python",
   "pygments_lexer": "ipython3",
   "version": "3.7.12"
  },
  "papermill": {
   "default_parameters": {},
   "duration": 21.37691,
   "end_time": "2022-11-04T10:02:50.580999",
   "environment_variables": {},
   "exception": null,
   "input_path": "__notebook__.ipynb",
   "output_path": "__notebook__.ipynb",
   "parameters": {},
   "start_time": "2022-11-04T10:02:29.204089",
   "version": "2.3.4"
  }
 },
 "nbformat": 4,
 "nbformat_minor": 5
}
