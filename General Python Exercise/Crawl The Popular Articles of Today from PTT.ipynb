{
 "cells": [
  {
   "cell_type": "code",
   "execution_count": 17,
   "id": "a9943508",
   "metadata": {},
   "outputs": [
    {
     "name": "stdout",
     "output_type": "stream",
     "text": [
      "爆[外絮] 記者：全聯盟沒人相信76人會給鬍子頂薪5/15\n",
      "14[花邊] Zaza慶祝勇士晉級，不會忘記回憶5/15\n",
      "18[情報] 第二輪Net Rating：G7 Suns和Celtics領先5/15\n",
      "13Re: [外絮] 記者：全聯盟沒人相信76人會給鬍子頂薪5/15\n",
      "31Re: [外絮] 記者：全聯盟沒人相信76人會給鬍子頂薪5/15\n",
      "66[花邊] Kerr 老婆 : 我不想再和我丈夫一起看球了5/15\n",
      "26[花邊] G6三分球排名：浪花兄弟佔前兩名且最少場5/15\n",
      "37[花邊] 勇士球迷幫Ja套上哭哭濾鏡5/15\n",
      "25[新聞] CYT飆44分20籃板做白工 安戴托昆波肯定5/15\n",
      "62[新聞] Brooks向勇士下戰帖 Curry：他說很多瘋話5/15\n",
      "84[情報] Pat Bev : 你仍舊應該在價碼上滿足哈登5/15\n",
      "爆[新聞] 詹皇將成歷史得分王　湖人要辦盛大儀式！5/15\n",
      "37Re: [情報] 字母哥季後賽單場40/20，自2001 final Sh5/15\n"
     ]
    }
   ],
   "source": [
    "import requests\n",
    "from bs4 import BeautifulSoup\n",
    "import time\n",
    "\n",
    "def pttNBA(url):\n",
    "    resp = requests.get(url) #'https://www.ptt.cc/bbs/NBA/index.html'\n",
    "    \n",
    "    #防錯\n",
    "    if resp.status_code != 200:\n",
    "        print('發生錯誤' + url)\n",
    "        return\n",
    "    \n",
    "    soup = BeautifulSoup(resp.text, 'html5lib')\n",
    "    paging = soup.find_all('a',{'class': 'btn', 'class': 'wide'})[1]['href']\n",
    "    today = time.strftime('%m/%d').lstrip('0')\n",
    "    articles = []\n",
    "    \n",
    "    for i in soup.find_all('div','r-ent'):\n",
    "        number = i.find('div','nrec').text.strip()\n",
    "        title = i.a.string.strip()\n",
    "        date = i.find('div','meta').find('div','date').string.strip()\n",
    "        article = number + title + date\n",
    "        \n",
    "        try:\n",
    "            if date == today and int(number) > 10:\n",
    "                articles.append(article)\n",
    "        except:\n",
    "            if date == today and number == '爆':\n",
    "                articles.append(article)\n",
    "    \n",
    "    if len(articles) != 0:\n",
    "        for article in articles:\n",
    "            print(article)\n",
    "        pttNBA('https://www.ptt.cc' + paging)\n",
    "    else:\n",
    "        return\n",
    "                \n",
    "pttNBA('https://www.ptt.cc/bbs/NBA/index.html')"
   ]
  },
  {
   "cell_type": "code",
   "execution_count": null,
   "id": "08b8f751",
   "metadata": {},
   "outputs": [],
   "source": []
  }
 ],
 "metadata": {
  "kernelspec": {
   "display_name": "Python 3",
   "language": "python",
   "name": "python3"
  },
  "language_info": {
   "codemirror_mode": {
    "name": "ipython",
    "version": 3
   },
   "file_extension": ".py",
   "mimetype": "text/x-python",
   "name": "python",
   "nbconvert_exporter": "python",
   "pygments_lexer": "ipython3",
   "version": "3.8.8"
  }
 },
 "nbformat": 4,
 "nbformat_minor": 5
}
